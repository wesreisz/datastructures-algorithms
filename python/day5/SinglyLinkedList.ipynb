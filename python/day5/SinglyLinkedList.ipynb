{
 "cells": [
  {
   "cell_type": "markdown",
   "metadata": {},
   "source": [
    "### Test Your Understanding\n",
    "Test your understanding of what did yesterday. Implement a LinkedList in Python. I should take the values: Wes, Kimberly, Leanne, Justin, Tyler\n",
    "\n",
    "Leanne went to college and won't be home for the holidays. Write a method to remove her from the list. "
   ]
  },
  {
   "cell_type": "code",
   "execution_count": 14,
   "metadata": {
    "collapsed": false
   },
   "outputs": [],
   "source": [
    "vals = ['Wes','Kimberly','Leanne','Justin','Tyler']\n",
    "class Node():\n",
    "    def __init__(self,nodeValue=''):\n",
    "        self.nodeValue = nodeValue\n",
    "        self.nodeNext = None\n",
    "    def __str__(self):\n",
    "        return self.nodeValue "
   ]
  },
  {
   "cell_type": "code",
   "execution_count": 23,
   "metadata": {
    "collapsed": false
   },
   "outputs": [
    {
     "name": "stdout",
     "output_type": "stream",
     "text": [
      "Wes::Kimberly\n"
     ]
    }
   ],
   "source": [
    "#create the linked list\n",
    "head = None\n",
    "prev = None\n",
    "for val in vals:\n",
    "    n = Node(val)\n",
    "    if head == None:\n",
    "        head = n\n",
    "        prev = n\n",
    "    else:\n",
    "        prev.nodeNext = n\n",
    "        prev = n \n",
    "print(head.nodeValue + \"::\" + head.nodeNext.nodeValue)"
   ]
  },
  {
   "cell_type": "code",
   "execution_count": 21,
   "metadata": {
    "collapsed": false
   },
   "outputs": [
    {
     "name": "stdout",
     "output_type": "stream",
     "text": [
      "Wes->Kimberly\n",
      "Kimberly->Leanne\n",
      "Leanne->Justin\n",
      "Justin->Tyler\n"
     ]
    }
   ],
   "source": [
    "#print the results\n",
    "while (not head.nodeNext == None):\n",
    "    print(head)\n",
    "    head = head.nodeNext"
   ]
  },
  {
   "cell_type": "code",
   "execution_count": null,
   "metadata": {
    "collapsed": true
   },
   "outputs": [],
   "source": []
  }
 ],
 "metadata": {
  "kernelspec": {
   "display_name": "Python 3",
   "language": "python",
   "name": "python3"
  },
  "language_info": {
   "codemirror_mode": {
    "name": "ipython",
    "version": 3
   },
   "file_extension": ".py",
   "mimetype": "text/x-python",
   "name": "python",
   "nbconvert_exporter": "python",
   "pygments_lexer": "ipython3",
   "version": "3.6.4"
  }
 },
 "nbformat": 4,
 "nbformat_minor": 2
}
