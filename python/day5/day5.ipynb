{
 "cells": [
  {
   "cell_type": "code",
   "execution_count": 61,
   "metadata": {
    "collapsed": false
   },
   "outputs": [],
   "source": [
    "#dabAcCaCBAcCcaDA\n",
    "input = open(\"input.txt\", \"r\").read()\n",
    "\n",
    "class Node:\n",
    "    def __init__(self, val = None):\n",
    "        self.val = val\n",
    "        self.nextval = None\n",
    "    def __str__(self):\n",
    "        return \"{0}\".format(self.val)"
   ]
  },
  {
   "cell_type": "code",
   "execution_count": 62,
   "metadata": {
    "collapsed": false
   },
   "outputs": [],
   "source": [
    "head = None\n",
    "cur = head\n",
    "for item in input:\n",
    "    if (head is None):\n",
    "        head = Node(item)\n",
    "        prev = head\n",
    "    else:\n",
    "        cur = Node(item)\n",
    "        prev.nextval = cur\n",
    "        prev = cur"
   ]
  },
  {
   "cell_type": "code",
   "execution_count": 63,
   "metadata": {
    "collapsed": false
   },
   "outputs": [
    {
     "name": "stdout",
     "output_type": "stream",
     "text": [
      "d\n"
     ]
    }
   ],
   "source": [
    "print(head)"
   ]
  },
  {
   "cell_type": "code",
   "execution_count": 64,
   "metadata": {
    "collapsed": false
   },
   "outputs": [
    {
     "name": "stdout",
     "output_type": "stream",
     "text": [
      "d\n",
      "a\n",
      "b\n",
      "A\n",
      "c\n",
      "C\n",
      "a\n",
      "C\n",
      "B\n",
      "A\n",
      "c\n",
      "C\n",
      "c\n",
      "a\n",
      "D\n",
      "A\n"
     ]
    }
   ],
   "source": [
    "cur = head\n",
    "while (cur is not None):\n",
    "    print(cur)\n",
    "    cur = cur.nextval"
   ]
  },
  {
   "cell_type": "code",
   "execution_count": null,
   "metadata": {
    "collapsed": true
   },
   "outputs": [],
   "source": []
  }
 ],
 "metadata": {
  "kernelspec": {
   "display_name": "Python 3",
   "language": "python",
   "name": "python3"
  },
  "language_info": {
   "codemirror_mode": {
    "name": "ipython",
    "version": 3
   },
   "file_extension": ".py",
   "mimetype": "text/x-python",
   "name": "python",
   "nbconvert_exporter": "python",
   "pygments_lexer": "ipython3",
   "version": "3.6.4"
  }
 },
 "nbformat": 4,
 "nbformat_minor": 2
}
