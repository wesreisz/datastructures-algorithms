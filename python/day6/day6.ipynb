{
 "cells": [
  {
   "cell_type": "markdown",
   "metadata": {},
   "source": [
    "### --- Day 6: Chronal Coordinates ---\n",
    "- Get the Points (call them destinations)\n",
    "- From origin {0,0}, sort list into an ordereddict\n",
    "- Define grid from the lowest to highest distinations from origin\n",
    "- Create an object to represent each node that contains a destination flag and an array of nearest neighbors\n",
    "- Iterate entire grid finding nearest destination to each point using Manhatten distance formula (if x=(a,b) and y=(c,d), then |a−c|+|b−d|)\n",
    "- iterate entire grid, for each position add all unique nearest neighbors to a hashmap.\n",
    "- display largest value"
   ]
  },
  {
   "cell_type": "code",
   "execution_count": 2,
   "metadata": {},
   "outputs": [
    {
     "name": "stdout",
     "output_type": "stream",
     "text": [
      "[0,0]\n",
      "[1,1]\n"
     ]
    }
   ],
   "source": [
    "class Coordinate():\n",
    "    def __init__(self, line):\n",
    "        x = line.split(\",\")[0].strip()\n",
    "        y = line.split(\",\")[1].strip()\n",
    "        self.x = int(x)\n",
    "        self.y = int(y)\n",
    "    def __str__(self):\n",
    "        return \"[{0},{1}]\".format(self.x,self.y)\n",
    "    def __repr__(self):\n",
    "        return self.__str__()\n",
    "\n",
    "val1 = Coordinate(\"0,0\")\n",
    "val2 = Coordinate(\"1,1\")\n",
    "print(val1)\n",
    "print(val2)"
   ]
  },
  {
   "cell_type": "code",
   "execution_count": 3,
   "metadata": {},
   "outputs": [
    {
     "name": "stdout",
     "output_type": "stream",
     "text": [
      "['1, 1\\n', '1, 6\\n', '8, 3\\n', '3, 4\\n', '5, 5\\n', '8, 9']\n"
     ]
    }
   ],
   "source": [
    "coords = open(\"6.txt\", \"r\").readlines()\n",
    "print(coords)"
   ]
  },
  {
   "cell_type": "code",
   "execution_count": 59,
   "metadata": {},
   "outputs": [
    {
     "data": {
      "text/plain": [
       "2"
      ]
     },
     "execution_count": 59,
     "metadata": {},
     "output_type": "execute_result"
    }
   ],
   "source": [
    "def getManhattenDistanceBetween(val1,val2):\n",
    "    if (not isinstance(val1,Coordinate) and not isinstance(val2,Coordinate)):\n",
    "        print(\"Invalid input\")\n",
    "        return \n",
    "    #if debug: print(str(val1) + \" & \" + str(val2))\n",
    "    return abs(val1.x-val2.x) + abs(val1.y-val2.y)\n",
    "\n",
    "getManhattenDistanceBetween(Coordinate(\"0,0\"),Coordinate(\"1, 1\\n\"))"
   ]
  },
  {
   "cell_type": "code",
   "execution_count": 60,
   "metadata": {},
   "outputs": [
    {
     "name": "stdout",
     "output_type": "stream",
     "text": [
      "OrderedDict([(2, [1,1]), (7, [3,4]), (10, [5,5]), (11, [8,3]), (17, [8,9])])\n"
     ]
    }
   ],
   "source": [
    "from collections import OrderedDict \n",
    "\n",
    "def order_distinations1(coords):\n",
    "    results = []\n",
    "    for coord in coords:\n",
    "        c = Coordinate(coord)\n",
    "        dist_from_origin = getManhattenDistanceBetween(c,Coordinate('0,0'))\n",
    "        result = (dist_from_origin, c)\n",
    "        results.append(result)\n",
    "        #print(\"[{0},{1}]::{2}\".format(c.x,c.y,dist_from_origin))\n",
    "\n",
    "    return OrderedDict(sorted(results, key=lambda x: x[0]))\n",
    "\n",
    "ordered_distinations = order_distinations1(coords)\n",
    "print(ordered_distinations)"
   ]
  },
  {
   "cell_type": "code",
   "execution_count": 13,
   "metadata": {},
   "outputs": [
    {
     "data": {
      "text/plain": [
       "5"
      ]
     },
     "execution_count": 13,
     "metadata": {},
     "output_type": "execute_result"
    }
   ],
   "source": [
    "len(ordered_distinations)"
   ]
  },
  {
   "cell_type": "code",
   "execution_count": 32,
   "metadata": {},
   "outputs": [
    {
     "name": "stdout",
     "output_type": "stream",
     "text": [
      "[8,9]\n"
     ]
    }
   ],
   "source": [
    "last_key = list(ordered_distinations.keys())[-1]\n",
    "print(ordered_distinations[last_key])"
   ]
  },
  {
   "cell_type": "code",
   "execution_count": 69,
   "metadata": {},
   "outputs": [
    {
     "data": {
      "text/plain": [
       "[[0, 0, 0, 0, 0, 0, 0, 0],\n",
       " [0, 0, 0, 0, 0, 0, 0, 0],\n",
       " [0, 0, 0, 0, 0, 0, 0, 0],\n",
       " [0, 0, 0, 0, 0, 0, 0, 0],\n",
       " [0, 0, 0, 0, 0, 0, 0, 0],\n",
       " [0, 0, 0, 0, 0, 0, 0, 0],\n",
       " [0, 0, 0, 0, 0, 0, 0, 0],\n",
       " [0, 0, 0, 0, 0, 0, 0, 0]]"
      ]
     },
     "execution_count": 69,
     "metadata": {},
     "output_type": "execute_result"
    }
   ],
   "source": [
    "#inner to outer when building this map\n",
    "dest_map = [[0 for (y) in range(ordered_distinations[last_key].x)] for i in range(ordered_distinations[last_key].x)]\n",
    "dest_map"
   ]
  },
  {
   "cell_type": "code",
   "execution_count": 63,
   "metadata": {},
   "outputs": [
    {
     "ename": "IndexError",
     "evalue": "list index out of range",
     "output_type": "error",
     "traceback": [
      "\u001b[0;31m---------------------------------------------------------------------------\u001b[0m",
      "\u001b[0;31mIndexError\u001b[0m                                Traceback (most recent call last)",
      "\u001b[0;32m<ipython-input-63-618ca01c6d89>\u001b[0m in \u001b[0;36m<module>\u001b[0;34m\u001b[0m\n\u001b[1;32m      1\u001b[0m \u001b[0;32mfor\u001b[0m \u001b[0mid\u001b[0m \u001b[0;32min\u001b[0m \u001b[0mordered_distinations\u001b[0m\u001b[0;34m.\u001b[0m\u001b[0mkeys\u001b[0m\u001b[0;34m(\u001b[0m\u001b[0;34m)\u001b[0m\u001b[0;34m:\u001b[0m\u001b[0;34m\u001b[0m\u001b[0m\n\u001b[1;32m      2\u001b[0m     \u001b[0mc\u001b[0m \u001b[0;34m=\u001b[0m \u001b[0mordered_distinations\u001b[0m\u001b[0;34m[\u001b[0m\u001b[0mid\u001b[0m\u001b[0;34m]\u001b[0m\u001b[0;34m\u001b[0m\u001b[0m\n\u001b[0;32m----> 3\u001b[0;31m     \u001b[0mdest_map\u001b[0m\u001b[0;34m[\u001b[0m\u001b[0mc\u001b[0m\u001b[0;34m.\u001b[0m\u001b[0mx\u001b[0m\u001b[0;34m]\u001b[0m\u001b[0;34m[\u001b[0m\u001b[0mc\u001b[0m\u001b[0;34m.\u001b[0m\u001b[0my\u001b[0m\u001b[0;34m]\u001b[0m\u001b[0;34m=\u001b[0m\u001b[0;36m1\u001b[0m\u001b[0;34m\u001b[0m\u001b[0m\n\u001b[0m\u001b[1;32m      4\u001b[0m \u001b[0mdest_map\u001b[0m\u001b[0;34m\u001b[0m\u001b[0m\n",
      "\u001b[0;31mIndexError\u001b[0m: list index out of range"
     ]
    }
   ],
   "source": [
    "for id in ordered_distinations.keys():\n",
    "    c = ordered_distinations[id]\n",
    "    dest_map[c.x][c.y]=1  \n",
    "dest_map"
   ]
  },
  {
   "cell_type": "code",
   "execution_count": null,
   "metadata": {},
   "outputs": [],
   "source": []
  }
 ],
 "metadata": {
  "kernelspec": {
   "display_name": "Python 3",
   "language": "python",
   "name": "python3"
  },
  "language_info": {
   "codemirror_mode": {
    "name": "ipython",
    "version": 3
   },
   "file_extension": ".py",
   "mimetype": "text/x-python",
   "name": "python",
   "nbconvert_exporter": "python",
   "pygments_lexer": "ipython3",
   "version": "3.6.4"
  }
 },
 "nbformat": 4,
 "nbformat_minor": 2
}
