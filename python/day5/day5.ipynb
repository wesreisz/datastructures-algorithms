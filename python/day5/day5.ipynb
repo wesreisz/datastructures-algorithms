{
 "cells": [
  {
   "cell_type": "code",
   "execution_count": 42,
   "metadata": {
    "collapsed": false,
    "deletable": true,
    "editable": true
   },
   "outputs": [],
   "source": [
    "#dabAcCaCBAcCcaDA\n",
    "input = open(\"input.txt\", \"r\").read()\n",
    "class Node():\n",
    "    def __init__(self,val=\"\"):\n",
    "        self.nodeValue = val\n",
    "        self.nodeNext = None\n",
    "    def __str__(self):\n",
    "        return self.nodeValue\n",
    "\n",
    "def loadInput(record):\n",
    "    head = None\n",
    "    prev = None\n",
    "    for li in input:\n",
    "        n = Node(li)\n",
    "        if (not prev):\n",
    "            head = n \n",
    "        else:\n",
    "             prev.nodeNext = n\n",
    "        prev = n\n",
    "    return head\n",
    "\n",
    "def printList(curr):\n",
    "    accumulator = \"\"\n",
    "    while curr:\n",
    "        accumulator = accumulator + curr.nodeValue\n",
    "        curr = curr.nodeNext\n",
    "    print(accumulator)"
   ]
  },
  {
   "cell_type": "code",
   "execution_count": 43,
   "metadata": {
    "collapsed": false,
    "deletable": true,
    "editable": true,
    "scrolled": true
   },
   "outputs": [
    {
     "name": "stdout",
     "output_type": "stream",
     "text": [
      "dabAcCaCBAcCcaDA\n"
     ]
    }
   ],
   "source": [
    "head = loadInput(input)\n",
    "printList(head)"
   ]
  },
  {
   "cell_type": "code",
   "execution_count": null,
   "metadata": {
    "collapsed": true
   },
   "outputs": [],
   "source": []
  }
 ],
 "metadata": {
  "kernelspec": {
   "display_name": "Python 3",
   "language": "python",
   "name": "python3"
  },
  "language_info": {
   "codemirror_mode": {
    "name": "ipython",
    "version": 3
   },
   "file_extension": ".py",
   "mimetype": "text/x-python",
   "name": "python",
   "nbconvert_exporter": "python",
   "pygments_lexer": "ipython3",
   "version": "3.6.4"
  }
 },
 "nbformat": 4,
 "nbformat_minor": 2
}
