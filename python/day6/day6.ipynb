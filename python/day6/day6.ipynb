{
 "cells": [
  {
   "cell_type": "markdown",
   "metadata": {},
   "source": [
    "### --- Day 6: Chronal Coordinates ---\n",
    "- Get the Points (call them destinations)\n",
    "- From origin {0,0}, sort list into an ordereddict\n",
    "- Define grid from the lowest to highest distinations from origin\n",
    "- Create an object to represent each node that contains a destination flag and an array of nearest neighbors\n",
    "- Iterate entire grid finding nearest destination to each point using Manhatten distance formula (if x=(a,b) and y=(c,d), then |a−c|+|b−d|)\n",
    "- iterate entire grid, for each position add all unique nearest neighbors to a hashmap.\n",
    "- display largest value"
   ]
  },
  {
   "cell_type": "code",
   "execution_count": 70,
   "metadata": {},
   "outputs": [
    {
     "name": "stdout",
     "output_type": "stream",
     "text": [
      "[0,0]\n",
      "[1,1]\n"
     ]
    }
   ],
   "source": [
    "class Coordinate():\n",
    "    def __init__(self, line):\n",
    "        x = line.split(\",\")[0].strip()\n",
    "        y = line.split(\",\")[1].strip()\n",
    "        self.x = int(x)\n",
    "        self.y = int(y)\n",
    "    def __str__(self):\n",
    "        return \"[{0},{1}]\".format(self.x,self.y)\n",
    "    def __repr__(self):\n",
    "        return self.__str__()\n",
    "\n",
    "val1 = Coordinate(\"0,0\")\n",
    "val2 = Coordinate(\"1,1\")\n",
    "print(val1)\n",
    "print(val2)"
   ]
  },
  {
   "cell_type": "code",
   "execution_count": 71,
   "metadata": {},
   "outputs": [
    {
     "name": "stdout",
     "output_type": "stream",
     "text": [
      "['1, 1\\n', '1, 6\\n', '8, 3\\n', '3, 4\\n', '5, 5\\n', '8, 9']\n"
     ]
    }
   ],
   "source": [
    "coords = open(\"6.txt\", \"r\").readlines()\n",
    "print(coords)"
   ]
  },
  {
   "cell_type": "code",
   "execution_count": 72,
   "metadata": {},
   "outputs": [
    {
     "data": {
      "text/plain": [
       "2"
      ]
     },
     "execution_count": 72,
     "metadata": {},
     "output_type": "execute_result"
    }
   ],
   "source": [
    "def getManhattenDistanceBetween(val1,val2):\n",
    "    if (not isinstance(val1,Coordinate) and not isinstance(val2,Coordinate)):\n",
    "        print(\"Invalid input\")\n",
    "        return \n",
    "    #if debug: print(str(val1) + \" & \" + str(val2))\n",
    "    return abs(val1.x-val2.x) + abs(val1.y-val2.y)\n",
    "\n",
    "getManhattenDistanceBetween(Coordinate(\"0,0\"),Coordinate(\"1, 1\\n\"))"
   ]
  },
  {
   "cell_type": "code",
   "execution_count": 73,
   "metadata": {},
   "outputs": [
    {
     "name": "stdout",
     "output_type": "stream",
     "text": [
      "[(2, [1,1]), (7, [1,6]), (11, [8,3]), (7, [3,4]), (10, [5,5]), (17, [8,9])]\n"
     ]
    }
   ],
   "source": [
    "def order_destinations(coords):\n",
    "    results = []\n",
    "    for coord in coords:\n",
    "        c = Coordinate(coord)\n",
    "        dist_from_origin = getManhattenDistanceBetween(c,Coordinate('0,0'))\n",
    "        result = (dist_from_origin, c)\n",
    "        results.append(result)\n",
    "        #print(\"[{0},{1}]::{2}\".format(c.x,c.y,dist_from_origin))\n",
    "\n",
    "    #return sorted(results, key=lambda x: x[0])\n",
    "    return results\n",
    "destinations = order_destinations(coords)\n",
    "print(destinations)"
   ]
  },
  {
   "cell_type": "code",
   "execution_count": 74,
   "metadata": {},
   "outputs": [
    {
     "name": "stdout",
     "output_type": "stream",
     "text": [
      "[(2, [1,1]), (7, [1,6]), (11, [8,3]), (7, [3,4]), (10, [5,5]), (17, [8,9])]\n",
      "    0  1   2  3   4  5   6   7  8   9   10\n",
      "0    0  0   0  0   0  0   0   0  0   0   0\n",
      "1    0  A   0  0   0  0   0   0  0   0   0\n",
      "2    0  0   0  0   0  0   0   0  0   0   0\n",
      "3    0  0   0  0   0  0   0   0  C   0   0\n",
      "4    0  0   0  D   0  0   0   0  0   0   0\n",
      "5    0  0   0  0   0  E   0   0  0   0   0\n",
      "6    0  B   0  0   0  0   0   0  0   0   0\n",
      "7    0  0   0  0   0  0   0   0  0   0   0\n",
      "8    0  0   0  0   0  0   0   0  0   0   0\n",
      "9    0  0   0  0   0  0   0   0  F   0   0\n",
      "10   0  0   0  0   0  0   0   0  0   0   0\n"
     ]
    }
   ],
   "source": [
    "from pandas import * #! pip3 install pandas\n",
    "\n",
    "val = 65 # int number for the char A\n",
    "\n",
    "dest_map = DataFrame([[0 for y in range(11)] for i in range(11)])\n",
    "\n",
    "for weight, coord in destinations:\n",
    "    #dest_map[coord.x][coord.y]=chr(val)         #slower, two separate calls\n",
    "    dest_map.loc[coord.y,coord.x] = chr(val)     #faster, treats as one call\n",
    "    val += 1\n",
    "\n",
    "print(destinations)    \n",
    "print(dest_map)"
   ]
  },
  {
   "cell_type": "code",
   "execution_count": null,
   "metadata": {},
   "outputs": [],
   "source": []
  }
 ],
 "metadata": {
  "kernelspec": {
   "display_name": "Python 3",
   "language": "python",
   "name": "python3"
  },
  "language_info": {
   "codemirror_mode": {
    "name": "ipython",
    "version": 3
   },
   "file_extension": ".py",
   "mimetype": "text/x-python",
   "name": "python",
   "nbconvert_exporter": "python",
   "pygments_lexer": "ipython3",
   "version": "3.6.4"
  }
 },
 "nbformat": 4,
 "nbformat_minor": 2
}
