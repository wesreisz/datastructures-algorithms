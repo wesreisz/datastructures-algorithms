{
 "cells": [
  {
   "cell_type": "markdown",
   "metadata": {
    "deletable": true,
    "editable": true
   },
   "source": [
    "### --- Day 6: Chronal Coordinates ---\n",
    "- Get the Points (call them destinations)\n",
    "- From origin {0,0}, sort list into an ordereddict\n",
    "- Define grid from the lowest to highest distinations from origin\n",
    "- Create an object to represent each node that contains a destination flag and an array of nearest neighbors\n",
    "- Iterate entire grid finding nearest destination to each point using Manhatten distance formula (if x=(a,b) and y=(c,d), then |a−c|+|b−d|)\n",
    "- iterate entire grid, for each position add all unique nearest neighbors to a hashmap.\n",
    "- display largest value"
   ]
  },
  {
   "cell_type": "code",
   "execution_count": 22,
   "metadata": {
    "collapsed": false,
    "deletable": true,
    "editable": true
   },
   "outputs": [
    {
     "name": "stdout",
     "output_type": "stream",
     "text": [
      "[0,0]\n",
      "[1,1]\n"
     ]
    }
   ],
   "source": [
    "class Coordinate():\n",
    "    def __init__(self, line):\n",
    "        x = line.split(\",\")[0].strip()\n",
    "        y = line.split(\",\")[1].strip()\n",
    "        self.x = int(x)\n",
    "        self.y = int(y)\n",
    "    def __str__(self):\n",
    "        return \"[{0},{1}]\".format(self.x,self.y)\n",
    "    def __repr__(self):\n",
    "        return self.__str__()\n",
    "\n",
    "val1 = Coordinate(\"0,0\")\n",
    "val2 = Coordinate(\"1,1\")\n",
    "print(val1)\n",
    "print(val2)"
   ]
  },
  {
   "cell_type": "code",
   "execution_count": 23,
   "metadata": {
    "collapsed": false,
    "deletable": true,
    "editable": true
   },
   "outputs": [
    {
     "name": "stdout",
     "output_type": "stream",
     "text": [
      "['1, 1\\n', '1, 6\\n', '8, 3\\n', '3, 4\\n', '5, 5\\n', '8, 9']\n"
     ]
    }
   ],
   "source": [
    "coords = open(\"test_input.txt\", \"r\").readlines()\n",
    "print(coords)"
   ]
  },
  {
   "cell_type": "code",
   "execution_count": 70,
   "metadata": {
    "collapsed": false,
    "deletable": true,
    "editable": true
   },
   "outputs": [
    {
     "data": {
      "text/plain": [
       "4"
      ]
     },
     "execution_count": 70,
     "metadata": {},
     "output_type": "execute_result"
    }
   ],
   "source": [
    "def getManhattenDistanceBetween(val1,val2):\n",
    "    if (not isinstance(val1,Coordinate) and not isinstance(val2,Coordinate)):\n",
    "        print(\"Invalid input\")\n",
    "        return \n",
    "    #if debug: print(str(val1) + \" & \" + str(val2))\n",
    "    return abs(val1.x-val2.x) + abs(val1.y-val2.y)\n",
    "\n",
    "getManhattenDistanceBetween(Coordinate(\"0,0\"),Coordinate(\"2, 2\\n\"))"
   ]
  },
  {
   "cell_type": "code",
   "execution_count": 25,
   "metadata": {
    "collapsed": false,
    "deletable": true,
    "editable": true
   },
   "outputs": [
    {
     "name": "stdout",
     "output_type": "stream",
     "text": [
      "[('A', [1,1]), ('B', [1,6]), ('C', [8,3]), ('D', [3,4]), ('E', [5,5]), ('F', [8,9])]\n"
     ]
    }
   ],
   "source": [
    "def name_destinations(coords):\n",
    "    val = 65 \n",
    "    results = []\n",
    "    for coord in coords:\n",
    "        c = Coordinate(coord)\n",
    "        result = (chr(val), c)\n",
    "        results.append(result)\n",
    "        val += 1\n",
    "        \n",
    "    return results\n",
    "\n",
    "destinations = name_destinations(coords)\n",
    "print(destinations)"
   ]
  },
  {
   "cell_type": "code",
   "execution_count": 26,
   "metadata": {
    "collapsed": false,
    "deletable": true,
    "editable": true
   },
   "outputs": [
    {
     "name": "stdout",
     "output_type": "stream",
     "text": [
      "('A', [1,1])\n",
      "('B', [1,6])\n",
      "('C', [8,3])\n",
      "('D', [3,4])\n",
      "('E', [5,5])\n",
      "('F', [8,9])\n",
      "x_max: 8\n",
      "y_max: 9\n"
     ]
    }
   ],
   "source": [
    "for d in destinations:\n",
    "    print(d)\n",
    "    \n",
    "x_max = max(p[1].x for p in destinations)\n",
    "y_max = max(p[1].y for p in destinations)\n",
    "print(\"x_max: \" + str(x_max))\n",
    "print(\"y_max: \" + str(y_max))"
   ]
  },
  {
   "cell_type": "code",
   "execution_count": 113,
   "metadata": {
    "collapsed": false,
    "deletable": true,
    "editable": true
   },
   "outputs": [
    {
     "name": "stdout",
     "output_type": "stream",
     "text": [
      "[('A', [108,324]), ('B', [46,91]), ('C', [356,216]), ('D', [209,169]), ('E', [170,331]), ('F', [332,215]), ('G', [217,104]), ('H', [75,153]), ('I', [110,207]), ('J', [185,102]), ('K', [61,273]), ('L', [233,301]), ('M', [278,151]), ('N', [333,349]), ('O', [236,249]), ('P', [93,155]), ('Q', [186,321]), ('R', [203,138]), ('S', [103,292]), ('T', [47,178]), ('U', [178,212]), ('V', [253,174]), ('W', [348,272]), ('X', [83,65]), ('Y', [264,227]), ('Z', [239,52]), ('[', [243,61]), ('\\\\', [290,325]), (']', [135,96]), ('^', [165,339]), ('_', [236,132]), ('`', [84,185]), ('a', [94,248]), ('b', [164,82]), ('c', [325,202]), ('d', [345,323]), ('e', [45,42]), ('f', [292,214]), ('g', [349,148]), ('h', [80,180]), ('i', [314,335]), ('j', [210,264]), ('k', [302,108]), ('l', [235,273]), ('m', [253,170]), ('n', [150,303]), ('o', [249,279]), ('p', [255,159]), ('q', [273,356]), ('r', [275,244])]\n",
      "     0    1    2    3    4    5    6    7    8    9   ...   80   314  210  \\\n",
      "0    0.0  0.0  0.0  0.0  0.0  0.0  0.0  0.0  0.0  0.0 ...   NaN  NaN  NaN   \n",
      "1    0.0  0.0  0.0  0.0  0.0  0.0  0.0  0.0  0.0  0.0 ...   NaN  NaN  NaN   \n",
      "2    0.0  0.0  0.0  0.0  0.0  0.0  0.0  0.0  0.0  0.0 ...   NaN  NaN  NaN   \n",
      "3    0.0  0.0  0.0  0.0  0.0  0.0  0.0  0.0  0.0  0.0 ...   NaN  NaN  NaN   \n",
      "4    0.0  0.0  0.0  0.0  0.0  0.0  0.0  0.0  0.0  0.0 ...   NaN  NaN  NaN   \n",
      "5    0.0  0.0  0.0  0.0  0.0  0.0  0.0  0.0  0.0  0.0 ...   NaN  NaN  NaN   \n",
      "6    0.0  0.0  0.0  0.0  0.0  0.0  0.0  0.0  0.0  0.0 ...   NaN  NaN  NaN   \n",
      "7    0.0  0.0  0.0  0.0  0.0  0.0  0.0  0.0  0.0  0.0 ...   NaN  NaN  NaN   \n",
      "8    0.0  0.0  0.0  0.0  0.0  0.0  0.0  0.0  0.0  0.0 ...   NaN  NaN  NaN   \n",
      "9    0.0  0.0  0.0  0.0  0.0  0.0  0.0  0.0  0.0  0.0 ...   NaN  NaN  NaN   \n",
      "10   0.0  0.0  0.0  0.0  0.0  0.0  0.0  0.0  0.0  0.0 ...   NaN  NaN  NaN   \n",
      "11   0.0  0.0  0.0  0.0  0.0  0.0  0.0  0.0  0.0  0.0 ...   NaN  NaN  NaN   \n",
      "12   0.0  0.0  0.0  0.0  0.0  0.0  0.0  0.0  0.0  0.0 ...   NaN  NaN  NaN   \n",
      "13   0.0  0.0  0.0  0.0  0.0  0.0  0.0  0.0  0.0  0.0 ...   NaN  NaN  NaN   \n",
      "14   0.0  0.0  0.0  0.0  0.0  0.0  0.0  0.0  0.0  0.0 ...   NaN  NaN  NaN   \n",
      "15   0.0  0.0  0.0  0.0  0.0  0.0  0.0  0.0  0.0  0.0 ...   NaN  NaN  NaN   \n",
      "16   0.0  0.0  0.0  0.0  0.0  0.0  0.0  0.0  0.0  0.0 ...   NaN  NaN  NaN   \n",
      "17   0.0  0.0  0.0  0.0  0.0  0.0  0.0  0.0  0.0  0.0 ...   NaN  NaN  NaN   \n",
      "18   0.0  0.0  0.0  0.0  0.0  0.0  0.0  0.0  0.0  0.0 ...   NaN  NaN  NaN   \n",
      "19   0.0  0.0  0.0  0.0  0.0  0.0  0.0  0.0  0.0  0.0 ...   NaN  NaN  NaN   \n",
      "324  NaN  NaN  NaN  NaN  NaN  NaN  NaN  NaN  NaN  NaN ...   NaN  NaN  NaN   \n",
      "91   NaN  NaN  NaN  NaN  NaN  NaN  NaN  NaN  NaN  NaN ...   NaN  NaN  NaN   \n",
      "216  NaN  NaN  NaN  NaN  NaN  NaN  NaN  NaN  NaN  NaN ...   NaN  NaN  NaN   \n",
      "169  NaN  NaN  NaN  NaN  NaN  NaN  NaN  NaN  NaN  NaN ...   NaN  NaN  NaN   \n",
      "331  NaN  NaN  NaN  NaN  NaN  NaN  NaN  NaN  NaN  NaN ...   NaN  NaN  NaN   \n",
      "215  NaN  NaN  NaN  NaN  NaN  NaN  NaN  NaN  NaN  NaN ...   NaN  NaN  NaN   \n",
      "104  NaN  NaN  NaN  NaN  NaN  NaN  NaN  NaN  NaN  NaN ...   NaN  NaN  NaN   \n",
      "153  NaN  NaN  NaN  NaN  NaN  NaN  NaN  NaN  NaN  NaN ...   NaN  NaN  NaN   \n",
      "207  NaN  NaN  NaN  NaN  NaN  NaN  NaN  NaN  NaN  NaN ...   NaN  NaN  NaN   \n",
      "102  NaN  NaN  NaN  NaN  NaN  NaN  NaN  NaN  NaN  NaN ...   NaN  NaN  NaN   \n",
      "..   ...  ...  ...  ...  ...  ...  ...  ...  ...  ... ...   ...  ...  ...   \n",
      "178  NaN  NaN  NaN  NaN  NaN  NaN  NaN  NaN  NaN  NaN ...   NaN  NaN  NaN   \n",
      "212  NaN  NaN  NaN  NaN  NaN  NaN  NaN  NaN  NaN  NaN ...   NaN  NaN  NaN   \n",
      "174  NaN  NaN  NaN  NaN  NaN  NaN  NaN  NaN  NaN  NaN ...   NaN  NaN  NaN   \n",
      "272  NaN  NaN  NaN  NaN  NaN  NaN  NaN  NaN  NaN  NaN ...   NaN  NaN  NaN   \n",
      "65   NaN  NaN  NaN  NaN  NaN  NaN  NaN  NaN  NaN  NaN ...   NaN  NaN  NaN   \n",
      "227  NaN  NaN  NaN  NaN  NaN  NaN  NaN  NaN  NaN  NaN ...   NaN  NaN  NaN   \n",
      "52   NaN  NaN  NaN  NaN  NaN  NaN  NaN  NaN  NaN  NaN ...   NaN  NaN  NaN   \n",
      "61   NaN  NaN  NaN  NaN  NaN  NaN  NaN  NaN  NaN  NaN ...   NaN  NaN  NaN   \n",
      "325  NaN  NaN  NaN  NaN  NaN  NaN  NaN  NaN  NaN  NaN ...   NaN  NaN  NaN   \n",
      "96   NaN  NaN  NaN  NaN  NaN  NaN  NaN  NaN  NaN  NaN ...   NaN  NaN  NaN   \n",
      "339  NaN  NaN  NaN  NaN  NaN  NaN  NaN  NaN  NaN  NaN ...   NaN  NaN  NaN   \n",
      "132  NaN  NaN  NaN  NaN  NaN  NaN  NaN  NaN  NaN  NaN ...   NaN  NaN  NaN   \n",
      "185  NaN  NaN  NaN  NaN  NaN  NaN  NaN  NaN  NaN  NaN ...   NaN  NaN  NaN   \n",
      "248  NaN  NaN  NaN  NaN  NaN  NaN  NaN  NaN  NaN  NaN ...   NaN  NaN  NaN   \n",
      "82   NaN  NaN  NaN  NaN  NaN  NaN  NaN  NaN  NaN  NaN ...   NaN  NaN  NaN   \n",
      "202  NaN  NaN  NaN  NaN  NaN  NaN  NaN  NaN  NaN  NaN ...   NaN  NaN  NaN   \n",
      "323  NaN  NaN  NaN  NaN  NaN  NaN  NaN  NaN  NaN  NaN ...   NaN  NaN  NaN   \n",
      "42   NaN  NaN  NaN  NaN  NaN  NaN  NaN  NaN  NaN  NaN ...   NaN  NaN  NaN   \n",
      "214  NaN  NaN  NaN  NaN  NaN  NaN  NaN  NaN  NaN  NaN ...   NaN  NaN  NaN   \n",
      "148  NaN  NaN  NaN  NaN  NaN  NaN  NaN  NaN  NaN  NaN ...   NaN  NaN  NaN   \n",
      "180  NaN  NaN  NaN  NaN  NaN  NaN  NaN  NaN  NaN  NaN ...     h  NaN  NaN   \n",
      "335  NaN  NaN  NaN  NaN  NaN  NaN  NaN  NaN  NaN  NaN ...   NaN    i  NaN   \n",
      "264  NaN  NaN  NaN  NaN  NaN  NaN  NaN  NaN  NaN  NaN ...   NaN  NaN    j   \n",
      "108  NaN  NaN  NaN  NaN  NaN  NaN  NaN  NaN  NaN  NaN ...   NaN  NaN  NaN   \n",
      "170  NaN  NaN  NaN  NaN  NaN  NaN  NaN  NaN  NaN  NaN ...   NaN  NaN  NaN   \n",
      "303  NaN  NaN  NaN  NaN  NaN  NaN  NaN  NaN  NaN  NaN ...   NaN  NaN  NaN   \n",
      "279  NaN  NaN  NaN  NaN  NaN  NaN  NaN  NaN  NaN  NaN ...   NaN  NaN  NaN   \n",
      "159  NaN  NaN  NaN  NaN  NaN  NaN  NaN  NaN  NaN  NaN ...   NaN  NaN  NaN   \n",
      "356  NaN  NaN  NaN  NaN  NaN  NaN  NaN  NaN  NaN  NaN ...   NaN  NaN  NaN   \n",
      "244  NaN  NaN  NaN  NaN  NaN  NaN  NaN  NaN  NaN  NaN ...   NaN  NaN  NaN   \n",
      "\n",
      "     302  235  150  249  255  273  275  \n",
      "0    NaN  NaN  NaN  NaN  NaN  NaN  NaN  \n",
      "1    NaN  NaN  NaN  NaN  NaN  NaN  NaN  \n",
      "2    NaN  NaN  NaN  NaN  NaN  NaN  NaN  \n",
      "3    NaN  NaN  NaN  NaN  NaN  NaN  NaN  \n",
      "4    NaN  NaN  NaN  NaN  NaN  NaN  NaN  \n",
      "5    NaN  NaN  NaN  NaN  NaN  NaN  NaN  \n",
      "6    NaN  NaN  NaN  NaN  NaN  NaN  NaN  \n",
      "7    NaN  NaN  NaN  NaN  NaN  NaN  NaN  \n",
      "8    NaN  NaN  NaN  NaN  NaN  NaN  NaN  \n",
      "9    NaN  NaN  NaN  NaN  NaN  NaN  NaN  \n",
      "10   NaN  NaN  NaN  NaN  NaN  NaN  NaN  \n",
      "11   NaN  NaN  NaN  NaN  NaN  NaN  NaN  \n",
      "12   NaN  NaN  NaN  NaN  NaN  NaN  NaN  \n",
      "13   NaN  NaN  NaN  NaN  NaN  NaN  NaN  \n",
      "14   NaN  NaN  NaN  NaN  NaN  NaN  NaN  \n",
      "15   NaN  NaN  NaN  NaN  NaN  NaN  NaN  \n",
      "16   NaN  NaN  NaN  NaN  NaN  NaN  NaN  \n",
      "17   NaN  NaN  NaN  NaN  NaN  NaN  NaN  \n",
      "18   NaN  NaN  NaN  NaN  NaN  NaN  NaN  \n",
      "19   NaN  NaN  NaN  NaN  NaN  NaN  NaN  \n",
      "324  NaN  NaN  NaN  NaN  NaN  NaN  NaN  \n",
      "91   NaN  NaN  NaN  NaN  NaN  NaN  NaN  \n",
      "216  NaN  NaN  NaN  NaN  NaN  NaN  NaN  \n",
      "169  NaN  NaN  NaN  NaN  NaN  NaN  NaN  \n",
      "331  NaN  NaN  NaN  NaN  NaN  NaN  NaN  \n",
      "215  NaN  NaN  NaN  NaN  NaN  NaN  NaN  \n",
      "104  NaN  NaN  NaN  NaN  NaN  NaN  NaN  \n",
      "153  NaN  NaN  NaN  NaN  NaN  NaN  NaN  \n",
      "207  NaN  NaN  NaN  NaN  NaN  NaN  NaN  \n",
      "102  NaN  NaN  NaN  NaN  NaN  NaN  NaN  \n",
      "..   ...  ...  ...  ...  ...  ...  ...  \n",
      "178  NaN  NaN  NaN  NaN  NaN  NaN  NaN  \n",
      "212  NaN  NaN  NaN  NaN  NaN  NaN  NaN  \n",
      "174  NaN  NaN  NaN  NaN  NaN  NaN  NaN  \n",
      "272  NaN  NaN  NaN  NaN  NaN  NaN  NaN  \n",
      "65   NaN  NaN  NaN  NaN  NaN  NaN  NaN  \n",
      "227  NaN  NaN  NaN  NaN  NaN  NaN  NaN  \n",
      "52   NaN  NaN  NaN  NaN  NaN  NaN  NaN  \n",
      "61   NaN  NaN  NaN  NaN  NaN  NaN  NaN  \n",
      "325  NaN  NaN  NaN  NaN  NaN  NaN  NaN  \n",
      "96   NaN  NaN  NaN  NaN  NaN  NaN  NaN  \n",
      "339  NaN  NaN  NaN  NaN  NaN  NaN  NaN  \n",
      "132  NaN  NaN  NaN  NaN  NaN  NaN  NaN  \n",
      "185  NaN  NaN  NaN  NaN  NaN  NaN  NaN  \n",
      "248  NaN  NaN  NaN  NaN  NaN  NaN  NaN  \n",
      "82   NaN  NaN  NaN  NaN  NaN  NaN  NaN  \n",
      "202  NaN  NaN  NaN  NaN  NaN  NaN  NaN  \n",
      "323  NaN  NaN  NaN  NaN  NaN  NaN  NaN  \n",
      "42   NaN  NaN  NaN  NaN  NaN  NaN  NaN  \n",
      "214  NaN  NaN  NaN  NaN  NaN  NaN  NaN  \n",
      "148  NaN  NaN  NaN  NaN  NaN  NaN  NaN  \n",
      "180  NaN  NaN  NaN  NaN  NaN  NaN  NaN  \n",
      "335  NaN  NaN  NaN  NaN  NaN  NaN  NaN  \n",
      "264  NaN  NaN  NaN  NaN  NaN  NaN  NaN  \n",
      "108    k  NaN  NaN  NaN  NaN  NaN  NaN  \n",
      "170  NaN  NaN  NaN  NaN  NaN  NaN  NaN  \n",
      "303  NaN  NaN    n  NaN  NaN  NaN  NaN  \n",
      "279  NaN  NaN  NaN    o  NaN  NaN  NaN  \n",
      "159  NaN  NaN  NaN  NaN    p  NaN  NaN  \n",
      "356  NaN  NaN  NaN  NaN  NaN    q  NaN  \n",
      "244  NaN  NaN  NaN  NaN  NaN  NaN    r  \n",
      "\n",
      "[69 rows x 60 columns]\n"
     ]
    }
   ],
   "source": [
    "from pandas import * #! pip3 install pandas\n",
    "\n",
    "x_max = 12 #max(p[1].x for p in destinations) + 1 #zero based\n",
    "y_max = 20 #max(p[1].y for p in destinations) + 1 #zero based\n",
    "\n",
    "dest_map = DataFrame([[0 for y in range(x_max)] for i in range(y_max)])\n",
    "\n",
    "for name, coord in destinations:\n",
    "    dest_map.loc[coord.y,coord.x] =  name     #faster, treats as one call\n",
    "\n",
    "print(destinations)    \n",
    "print(dest_map)"
   ]
  },
  {
   "cell_type": "code",
   "execution_count": 28,
   "metadata": {
    "collapsed": false,
    "deletable": true,
    "editable": true
   },
   "outputs": [
    {
     "name": "stdout",
     "output_type": "stream",
     "text": [
      "A::[1,1]->3\n",
      "B::[1,6]->2\n",
      "C::[8,3]->8\n",
      "D::[3,4]->2\n",
      "E::[5,5]->5\n",
      "F::[8,9]->12\n",
      "Closest destination to [1,4]: .\n"
     ]
    }
   ],
   "source": [
    "debug = True\n",
    "def closest_match(position):\n",
    "    distance = 1000\n",
    "    match_destination = None\n",
    "    for destination in destinations:\n",
    "        tmp = getManhattenDistanceBetween(position,destination[1])\n",
    "        \n",
    "        if debug: print(\"{2}::{0}->{1}\".format(destination[1],tmp,destination[0]))\n",
    "        \n",
    "        if not match_destination is None:\n",
    "            if tmp<distance:                     #least distance\n",
    "                distance = tmp\n",
    "                match_destination = destination  #multiple match\n",
    "            elif tmp==distance:\n",
    "                match_destination = \".\"\n",
    "            else:\n",
    "                next                             #stop looking\n",
    "            \n",
    "        else:\n",
    "            match_destination = destination[0]\n",
    "            distance = tmp\n",
    "    return match_destination \n",
    "        \n",
    "dest = closest_match(Coordinate(\"1,4\"))   \n",
    "print(\"Closest destination to [1,4]: \" + str(dest))"
   ]
  },
  {
   "cell_type": "code",
   "execution_count": 47,
   "metadata": {
    "collapsed": false,
    "deletable": true,
    "editable": true
   },
   "outputs": [
    {
     "name": "stdout",
     "output_type": "stream",
     "text": [
      "Total size: 10\n",
      " - row 0\n",
      " - row 1\n",
      " - row 2\n",
      " - row 3\n",
      " - row 4\n",
      " - row 5\n",
      " - row 6\n",
      " - row 7\n",
      " - row 8\n",
      " - row 9\n",
      "   0  1  2  3  4  5  6  7  8\n",
      "0  a  a  a  a  a  .  c  c  c\n",
      "1  a  a  a  a  a  .  c  c  c\n",
      "2  a  a  a  d  d  e  c  c  c\n",
      "3  a  a  d  d  d  e  c  c  c\n",
      "4  .  .  d  d  d  e  e  c  c\n",
      "5  b  b  .  d  e  e  e  e  c\n",
      "6  b  b  b  .  e  e  e  e  .\n",
      "7  b  b  b  .  e  e  e  f  f\n",
      "8  b  b  b  .  e  e  f  f  f\n",
      "9  b  b  b  .  f  f  f  f  f\n"
     ]
    }
   ],
   "source": [
    "debug = False\n",
    "\n",
    "def buildMap(destinations):\n",
    "    x_max = max(p[1].x for p in destinations) + 1 #zero based\n",
    "    y_max = max(p[1].y for p in destinations) + 1 #zero based\n",
    "    dest_map = DataFrame([[0 for y in range(x_max)] for i in range(y_max)])\n",
    "\n",
    "    print(\"Total size: {0}\".format(len(dest_map)))\n",
    "    for row_index, row in dest_map.iterrows():\n",
    "        for col_index, val in enumerate(row):\n",
    "            if val == 0:\n",
    "                addr = \"{0},{1}\".format(col_index,row_index)\n",
    "                dest = closest_match(Coordinate(addr)) \n",
    "                if debug: print(\"closest match to {0} is {1}\".format(addr,dest))\n",
    "                dest_map.loc[row_index,col_index] = dest[0].lower()\n",
    "            else:\n",
    "                next\n",
    "        print(\" - row {0}\".format(row_index))\n",
    "    \n",
    "    return dest_map\n",
    "\n",
    "dest_map = buildMap(destinations)\n",
    "print(dest_map)"
   ]
  },
  {
   "cell_type": "code",
   "execution_count": 30,
   "metadata": {
    "collapsed": false,
    "deletable": true,
    "editable": true
   },
   "outputs": [
    {
     "name": "stdout",
     "output_type": "stream",
     "text": [
      "{'a': 15, 'c': 15, 'd': 9, 'e': 17, 'b': 14, 'f': 10}\n"
     ]
    }
   ],
   "source": [
    "def mapResults(input_map):\n",
    "    dict = {}\n",
    "    for i, row in input_map.iterrows():\n",
    "        for j, val in row.iteritems():\n",
    "            if not val == '.':\n",
    "                if val.lower() in dict:\n",
    "                    dict[val.lower()] += 1\n",
    "                else:\n",
    "                    dict[val.lower()] = 1\n",
    "    return dict\n",
    "        \n",
    "results = mapResults(dest_map)\n",
    "print(results)\n"
   ]
  },
  {
   "cell_type": "markdown",
   "metadata": {
    "deletable": true,
    "editable": true
   },
   "source": [
    "## remove boundaries\n",
    "Need to remove the infinite boundary values. To do this, take the first and last row of the map in both x and y dimensions, select all values and then remove those values from the map. What remains are the possible answers to this question."
   ]
  },
  {
   "cell_type": "code",
   "execution_count": 31,
   "metadata": {
    "collapsed": true,
    "deletable": true,
    "editable": true
   },
   "outputs": [],
   "source": [
    "def append_unique_values(list2append,list2check):\n",
    "    for i in list2check:\n",
    "        if not i in list2append:\n",
    "            list2append.append(i)"
   ]
  },
  {
   "cell_type": "code",
   "execution_count": 32,
   "metadata": {
    "collapsed": false,
    "deletable": true,
    "editable": true
   },
   "outputs": [
    {
     "name": "stdout",
     "output_type": "stream",
     "text": [
      "{'a': 15, 'c': 15, 'd': 9, 'e': 17, 'b': 14, 'f': 10}\n",
      "   0  1  2  3  4  5  6  7  8\n",
      "0  a  a  a  a  a  .  c  c  c\n",
      "1  a  a  a  a  a  .  c  c  c\n",
      "2  a  a  a  d  d  e  c  c  c\n",
      "3  a  a  d  d  d  e  c  c  c\n",
      "4  .  .  d  d  d  e  e  c  c\n",
      "5  b  b  .  d  e  e  e  e  c\n",
      "6  b  b  b  .  e  e  e  e  .\n",
      "7  b  b  b  .  e  e  e  f  f\n",
      "8  b  b  b  .  e  e  f  f  f\n",
      "9  b  b  b  .  f  f  f  f  f\n",
      "['a', '.', 'c', 'b', 'f']\n"
     ]
    }
   ],
   "source": [
    "print(results)\n",
    "print(dest_map)\n",
    "\n",
    "boundary_destination_list = []\n",
    "append_unique_values(boundary_destination_list,dest_map.iloc[0])\n",
    "append_unique_values(boundary_destination_list,dest_map.iloc[-1])\n",
    "append_unique_values(boundary_destination_list,dest_map.iloc[:,0])\n",
    "append_unique_values(boundary_destination_list,dest_map.iloc[:,-1])\n",
    "print(boundary_destination_list)"
   ]
  },
  {
   "cell_type": "code",
   "execution_count": 33,
   "metadata": {
    "collapsed": false,
    "deletable": true,
    "editable": true
   },
   "outputs": [
    {
     "name": "stdout",
     "output_type": "stream",
     "text": [
      "{'a': 15, 'c': 15, 'd': 9, 'e': 17, 'b': 14, 'f': 10}\n",
      "{'d': 9, 'e': 17}\n"
     ]
    }
   ],
   "source": [
    "def remove_boundaries():\n",
    "    boundary_destination_list = []\n",
    "    append_unique_values(boundary_destination_list,dest_map.iloc[0])\n",
    "    append_unique_values(boundary_destination_list,dest_map.iloc[-1])\n",
    "    append_unique_values(boundary_destination_list,dest_map.iloc[:,0])\n",
    "    append_unique_values(boundary_destination_list,dest_map.iloc[:,-1])\n",
    "    \n",
    "    non_boundary_results = {}\n",
    "    for destination in results:\n",
    "        if not destination in boundary_destination_list:\n",
    "            non_boundary_results[destination] = results[destination]\n",
    "        \n",
    "    return non_boundary_results\n",
    "\n",
    "print(results)\n",
    "li = remove_boundaries()\n",
    "print(li)   "
   ]
  },
  {
   "cell_type": "code",
   "execution_count": 34,
   "metadata": {
    "collapsed": false,
    "deletable": true,
    "editable": true
   },
   "outputs": [
    {
     "name": "stdout",
     "output_type": "stream",
     "text": [
      "Max Key is e :: 17\n"
     ]
    }
   ],
   "source": [
    "def getMaxValue(res):\n",
    "    max_key=''\n",
    "    max_val=0\n",
    "    for key,val in res.items():\n",
    "        if val > max_val:\n",
    "            max_val = val\n",
    "            max_key = key\n",
    "    print(\"Max Key is {0} :: {1}\".format(max_key,max_val))\n",
    "\n",
    "getMaxValue(li)"
   ]
  },
  {
   "cell_type": "code",
   "execution_count": 107,
   "metadata": {
    "collapsed": false,
    "deletable": true,
    "editable": true
   },
   "outputs": [
    {
     "name": "stdout",
     "output_type": "stream",
     "text": [
      "- Building Map\n",
      "Total size: 357\n",
      " - row 0\n",
      " - row 1\n",
      " - row 2\n",
      " - row 3\n",
      " - row 4\n",
      " - row 5\n",
      " - row 6\n",
      " - row 7\n",
      " - row 8\n",
      " - row 9\n",
      " - row 10\n",
      " - row 11\n",
      " - row 12\n",
      " - row 13\n",
      " - row 14\n",
      " - row 15\n",
      " - row 16\n",
      " - row 17\n",
      " - row 18\n",
      " - row 19\n",
      " - row 20\n",
      " - row 21\n",
      " - row 22\n",
      " - row 23\n",
      " - row 24\n",
      " - row 25\n",
      " - row 26\n",
      " - row 27\n",
      " - row 28\n",
      " - row 29\n",
      " - row 30\n",
      " - row 31\n",
      " - row 32\n",
      " - row 33\n",
      " - row 34\n",
      " - row 35\n",
      " - row 36\n",
      " - row 37\n",
      " - row 38\n",
      " - row 39\n",
      " - row 40\n",
      " - row 41\n",
      " - row 42\n",
      " - row 43\n",
      " - row 44\n",
      " - row 45\n",
      " - row 46\n",
      " - row 47\n",
      " - row 48\n",
      " - row 49\n",
      " - row 50\n",
      " - row 51\n",
      " - row 52\n",
      " - row 53\n",
      " - row 54\n",
      " - row 55\n",
      " - row 56\n",
      " - row 57\n",
      " - row 58\n",
      " - row 59\n",
      " - row 60\n",
      " - row 61\n",
      " - row 62\n",
      " - row 63\n",
      " - row 64\n",
      " - row 65\n",
      " - row 66\n",
      " - row 67\n",
      " - row 68\n",
      " - row 69\n",
      " - row 70\n",
      " - row 71\n",
      " - row 72\n",
      " - row 73\n",
      " - row 74\n",
      " - row 75\n",
      " - row 76\n",
      " - row 77\n",
      " - row 78\n",
      " - row 79\n",
      " - row 80\n",
      " - row 81\n",
      " - row 82\n",
      " - row 83\n",
      " - row 84\n",
      " - row 85\n",
      " - row 86\n",
      " - row 87\n",
      " - row 88\n",
      " - row 89\n",
      " - row 90\n",
      " - row 91\n",
      " - row 92\n",
      " - row 93\n",
      " - row 94\n",
      " - row 95\n",
      " - row 96\n",
      " - row 97\n",
      " - row 98\n",
      " - row 99\n",
      " - row 100\n",
      " - row 101\n",
      " - row 102\n",
      " - row 103\n",
      " - row 104\n",
      " - row 105\n",
      " - row 106\n",
      " - row 107\n",
      " - row 108\n",
      " - row 109\n",
      " - row 110\n",
      " - row 111\n",
      " - row 112\n",
      " - row 113\n",
      " - row 114\n",
      " - row 115\n",
      " - row 116\n",
      " - row 117\n",
      " - row 118\n",
      " - row 119\n",
      " - row 120\n",
      " - row 121\n",
      " - row 122\n",
      " - row 123\n",
      " - row 124\n",
      " - row 125\n",
      " - row 126\n",
      " - row 127\n",
      " - row 128\n",
      " - row 129\n",
      " - row 130\n",
      " - row 131\n",
      " - row 132\n",
      " - row 133\n",
      " - row 134\n",
      " - row 135\n",
      " - row 136\n",
      " - row 137\n",
      " - row 138\n",
      " - row 139\n",
      " - row 140\n",
      " - row 141\n",
      " - row 142\n",
      " - row 143\n",
      " - row 144\n",
      " - row 145\n",
      " - row 146\n",
      " - row 147\n",
      " - row 148\n",
      " - row 149\n",
      " - row 150\n",
      " - row 151\n",
      " - row 152\n",
      " - row 153\n",
      " - row 154\n",
      " - row 155\n",
      " - row 156\n",
      " - row 157\n",
      " - row 158\n",
      " - row 159\n",
      " - row 160\n",
      " - row 161\n",
      " - row 162\n",
      " - row 163\n",
      " - row 164\n",
      " - row 165\n",
      " - row 166\n",
      " - row 167\n",
      " - row 168\n",
      " - row 169\n",
      " - row 170\n",
      " - row 171\n",
      " - row 172\n",
      " - row 173\n",
      " - row 174\n",
      " - row 175\n",
      " - row 176\n",
      " - row 177\n",
      " - row 178\n",
      " - row 179\n",
      " - row 180\n",
      " - row 181\n",
      " - row 182\n",
      " - row 183\n",
      " - row 184\n",
      " - row 185\n",
      " - row 186\n",
      " - row 187\n",
      " - row 188\n",
      " - row 189\n",
      " - row 190\n",
      " - row 191\n",
      " - row 192\n",
      " - row 193\n",
      " - row 194\n",
      " - row 195\n",
      " - row 196\n",
      " - row 197\n",
      " - row 198\n",
      " - row 199\n",
      " - row 200\n",
      " - row 201\n",
      " - row 202\n",
      " - row 203\n",
      " - row 204\n",
      " - row 205\n",
      " - row 206\n",
      " - row 207\n",
      " - row 208\n",
      " - row 209\n",
      " - row 210\n",
      " - row 211\n",
      " - row 212\n",
      " - row 213\n",
      " - row 214\n",
      " - row 215\n",
      " - row 216\n",
      " - row 217\n",
      " - row 218\n",
      " - row 219\n",
      " - row 220\n",
      " - row 221\n",
      " - row 222\n",
      " - row 223\n",
      " - row 224\n",
      " - row 225\n",
      " - row 226\n",
      " - row 227\n",
      " - row 228\n",
      " - row 229\n",
      " - row 230\n",
      " - row 231\n",
      " - row 232\n",
      " - row 233\n",
      " - row 234\n",
      " - row 235\n",
      " - row 236\n",
      " - row 237\n",
      " - row 238\n",
      " - row 239\n",
      " - row 240\n",
      " - row 241\n",
      " - row 242\n",
      " - row 243\n",
      " - row 244\n",
      " - row 245\n",
      " - row 246\n",
      " - row 247\n",
      " - row 248\n",
      " - row 249\n",
      " - row 250\n",
      " - row 251\n",
      " - row 252\n",
      " - row 253\n",
      " - row 254\n",
      " - row 255\n",
      " - row 256\n",
      " - row 257\n",
      " - row 258\n",
      " - row 259\n",
      " - row 260\n",
      " - row 261\n",
      " - row 262\n",
      " - row 263\n",
      " - row 264\n",
      " - row 265\n",
      " - row 266\n",
      " - row 267\n",
      " - row 268\n",
      " - row 269\n",
      " - row 270\n",
      " - row 271\n",
      " - row 272\n",
      " - row 273\n",
      " - row 274\n",
      " - row 275\n",
      " - row 276\n",
      " - row 277\n",
      " - row 278\n",
      " - row 279\n",
      " - row 280\n",
      " - row 281\n",
      " - row 282\n",
      " - row 283\n",
      " - row 284\n",
      " - row 285\n",
      " - row 286\n",
      " - row 287\n",
      " - row 288\n",
      " - row 289\n",
      " - row 290\n",
      " - row 291\n",
      " - row 292\n",
      " - row 293\n",
      " - row 294\n",
      " - row 295\n",
      " - row 296\n",
      " - row 297\n",
      " - row 298\n",
      " - row 299\n",
      " - row 300\n",
      " - row 301\n",
      " - row 302\n",
      " - row 303\n",
      " - row 304\n",
      " - row 305\n",
      " - row 306\n",
      " - row 307\n",
      " - row 308\n",
      " - row 309\n",
      " - row 310\n",
      " - row 311\n",
      " - row 312\n",
      " - row 313\n",
      " - row 314\n",
      " - row 315\n",
      " - row 316\n",
      " - row 317\n",
      " - row 318\n",
      " - row 319\n",
      " - row 320\n",
      " - row 321\n",
      " - row 322\n",
      " - row 323\n",
      " - row 324\n",
      " - row 325\n",
      " - row 326\n",
      " - row 327\n",
      " - row 328\n",
      " - row 329\n",
      " - row 330\n",
      " - row 331\n",
      " - row 332\n",
      " - row 333\n",
      " - row 334\n",
      " - row 335\n",
      " - row 336\n",
      " - row 337\n",
      " - row 338\n",
      " - row 339\n",
      " - row 340\n",
      " - row 341\n",
      " - row 342\n",
      " - row 343\n",
      " - row 344\n",
      " - row 345\n",
      " - row 346\n",
      " - row 347\n",
      " - row 348\n",
      " - row 349\n",
      " - row 350\n",
      " - row 351\n",
      " - row 352\n",
      " - row 353\n",
      " - row 354\n",
      " - row 355\n",
      " - row 356\n",
      "- Built Map\n",
      "- Mapping Results\n",
      "- Removing Boundaries\n",
      "Max Key is u :: 4166\n"
     ]
    }
   ],
   "source": [
    "coords = open(\"6.txt\", \"r\").readlines()\n",
    "destinations = name_destinations(coords)\n",
    "\n",
    "print(\"- Building Map\")\n",
    "dest_map = buildMap(destinations)\n",
    "print(\"- Built Map\")\n",
    "print(\"- Mapping Results\")\n",
    "results = mapResults(dest_map)\n",
    "print(\"- Removing Boundaries\")\n",
    "nonboundary_results = remove_boundaries()\n",
    "getMaxValue(nonboundary_results)"
   ]
  },
  {
   "cell_type": "markdown",
   "metadata": {
    "collapsed": true,
    "deletable": true,
    "editable": true
   },
   "source": [
    "### --- Part Two ---"
   ]
  },
  {
   "cell_type": "markdown",
   "metadata": {},
   "source": [
    "* for each given coordinate, find the total distance to all others. If that sum is less than a provided value, it is a desired region.\n",
    "* add the size of all desired regions\n"
   ]
  },
  {
   "cell_type": "code",
   "execution_count": 41,
   "metadata": {
    "collapsed": false
   },
   "outputs": [
    {
     "name": "stdout",
     "output_type": "stream",
     "text": [
      "Total size: 10\n",
      " - row 0\n",
      " - row 1\n",
      " - row 2\n",
      " - row 3\n",
      " - row 4\n",
      " - row 5\n",
      " - row 6\n",
      " - row 7\n",
      " - row 8\n",
      " - row 9\n",
      "   0  1  2  3  4  5  6  7  8\n",
      "0  a  a  a  a  a  .  c  c  c\n",
      "1  a  a  a  a  a  .  c  c  c\n",
      "2  a  a  a  d  d  e  c  c  c\n",
      "3  a  a  d  d  d  e  c  c  c\n",
      "4  .  .  d  d  d  e  e  c  c\n",
      "5  b  b  .  d  e  e  e  e  c\n",
      "6  b  b  b  .  e  e  e  e  .\n",
      "7  b  b  b  .  e  e  e  f  f\n",
      "8  b  b  b  .  e  e  f  f  f\n",
      "9  b  b  b  .  f  f  f  f  f\n"
     ]
    }
   ],
   "source": [
    "dest_map = None\n",
    "dest_map = buildMap(destinations)\n",
    "print(dest_map)"
   ]
  },
  {
   "cell_type": "code",
   "execution_count": 72,
   "metadata": {
    "collapsed": false
   },
   "outputs": [
    {
     "data": {
      "text/plain": [
       "7"
      ]
     },
     "execution_count": 72,
     "metadata": {},
     "output_type": "execute_result"
    }
   ],
   "source": [
    "getManhattenDistanceBetween(Coordinate(\"0,0\"),Coordinate(\"1,6\"))"
   ]
  },
  {
   "cell_type": "code",
   "execution_count": 112,
   "metadata": {
    "collapsed": false
   },
   "outputs": [
    {
     "name": "stdout",
     "output_type": "stream",
     "text": [
      "[('A', [108,324]), ('B', [46,91]), ('C', [356,216]), ('D', [209,169]), ('E', [170,331]), ('F', [332,215]), ('G', [217,104]), ('H', [75,153]), ('I', [110,207]), ('J', [185,102]), ('K', [61,273]), ('L', [233,301]), ('M', [278,151]), ('N', [333,349]), ('O', [236,249]), ('P', [93,155]), ('Q', [186,321]), ('R', [203,138]), ('S', [103,292]), ('T', [47,178]), ('U', [178,212]), ('V', [253,174]), ('W', [348,272]), ('X', [83,65]), ('Y', [264,227]), ('Z', [239,52]), ('[', [243,61]), ('\\\\', [290,325]), (']', [135,96]), ('^', [165,339]), ('_', [236,132]), ('`', [84,185]), ('a', [94,248]), ('b', [164,82]), ('c', [325,202]), ('d', [345,323]), ('e', [45,42]), ('f', [292,214]), ('g', [349,148]), ('h', [80,180]), ('i', [314,335]), ('j', [210,264]), ('k', [302,108]), ('l', [235,273]), ('m', [253,170]), ('n', [150,303]), ('o', [249,279]), ('p', [255,159]), ('q', [273,356]), ('r', [275,244])]\n"
     ]
    }
   ],
   "source": [
    "print(destinations)"
   ]
  },
  {
   "cell_type": "code",
   "execution_count": 109,
   "metadata": {
    "collapsed": false
   },
   "outputs": [
    {
     "name": "stdout",
     "output_type": "stream",
     "text": [
      "Adding: ('D', [209,169])\n",
      "Adding: ('G', [217,104])\n",
      "Adding: ('I', [110,207])\n",
      "Adding: ('J', [185,102])\n",
      "Adding: ('L', [233,301])\n",
      "Adding: ('M', [278,151])\n",
      "Adding: ('O', [236,249])\n",
      "Adding: ('Q', [186,321])\n",
      "Adding: ('R', [203,138])\n",
      "Adding: ('U', [178,212])\n",
      "Adding: ('V', [253,174])\n",
      "Adding: ('Y', [264,227])\n",
      "Adding: ('_', [236,132])\n",
      "Adding: ('c', [325,202])\n",
      "Adding: ('f', [292,214])\n",
      "Adding: ('j', [210,264])\n",
      "Adding: ('l', [235,273])\n",
      "Adding: ('m', [253,170])\n",
      "Adding: ('n', [150,303])\n",
      "Adding: ('o', [249,279])\n",
      "Adding: ('p', [255,159])\n",
      "Adding: ('r', [275,244])\n"
     ]
    },
    {
     "data": {
      "text/plain": [
       "[('D', [209,169]),\n",
       " ('G', [217,104]),\n",
       " ('I', [110,207]),\n",
       " ('J', [185,102]),\n",
       " ('L', [233,301]),\n",
       " ('M', [278,151]),\n",
       " ('O', [236,249]),\n",
       " ('Q', [186,321]),\n",
       " ('R', [203,138]),\n",
       " ('U', [178,212]),\n",
       " ('V', [253,174]),\n",
       " ('Y', [264,227]),\n",
       " ('_', [236,132]),\n",
       " ('c', [325,202]),\n",
       " ('f', [292,214]),\n",
       " ('j', [210,264]),\n",
       " ('l', [235,273]),\n",
       " ('m', [253,170]),\n",
       " ('n', [150,303]),\n",
       " ('o', [249,279]),\n",
       " ('p', [255,159]),\n",
       " ('r', [275,244])]"
      ]
     },
     "execution_count": 109,
     "metadata": {},
     "output_type": "execute_result"
    }
   ],
   "source": [
    "debug = False\n",
    "max_range = 10000\n",
    "target_destinations = []\n",
    "for curr_destination in destinations:\n",
    "    if debug: print(\"working \" + str(curr_destination))\n",
    "    \n",
    "    dist_sum = 0\n",
    "    for destination in destinations:\n",
    "        if not curr_destination == destination:\n",
    "            val1 = curr_destination[1]\n",
    "            val2 = destination[1]\n",
    "            dist = getManhattenDistanceBetween(val1,val2)\n",
    "            \n",
    "            dist_sum = dist_sum + dist\n",
    "            if debug: print(\" - {0} + {1} = {2}, accumulating: {3}\".format(val1,val2,dist,dist_sum))\n",
    "            \n",
    "\n",
    "    if debug: print(\"Totals {2}\".format(val1,val2,dist_sum))\n",
    "    if dist_sum<max_range:\n",
    "        print(\"Adding: {0}\".format(curr_destination))\n",
    "        target_destinations.append(curr_destination)\n",
    "\n",
    "target_destinations\n",
    "       "
   ]
  },
  {
   "cell_type": "code",
   "execution_count": 97,
   "metadata": {
    "collapsed": false
   },
   "outputs": [
    {
     "name": "stdout",
     "output_type": "stream",
     "text": [
      "{'a': 15, 'c': 15, 'd': 9, 'e': 17, 'b': 14, 'f': 10}\n"
     ]
    }
   ],
   "source": [
    "print(results)"
   ]
  },
  {
   "cell_type": "code",
   "execution_count": 111,
   "metadata": {
    "collapsed": false
   },
   "outputs": [
    {
     "name": "stdout",
     "output_type": "stream",
     "text": [
      "Adding Totals\n",
      "Total Area: 3945\n"
     ]
    }
   ],
   "source": [
    "total = 0\n",
    "\n",
    "for target in target_destinations:\n",
    "    total = results[target[0].lower()]\n",
    "\n",
    "print(\"Adding Totals\")\n",
    "target_destinations\n",
    "print(\"Total Area: \" + str(total))"
   ]
  },
  {
   "cell_type": "code",
   "execution_count": null,
   "metadata": {
    "collapsed": true
   },
   "outputs": [],
   "source": []
  }
 ],
 "metadata": {
  "kernelspec": {
   "display_name": "Python 3",
   "language": "python",
   "name": "python3"
  },
  "language_info": {
   "codemirror_mode": {
    "name": "ipython",
    "version": 3
   },
   "file_extension": ".py",
   "mimetype": "text/x-python",
   "name": "python",
   "nbconvert_exporter": "python",
   "pygments_lexer": "ipython3",
   "version": "3.6.4"
  }
 },
 "nbformat": 4,
 "nbformat_minor": 2
}
