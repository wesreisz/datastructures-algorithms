{
 "cells": [
  {
   "cell_type": "code",
   "execution_count": 57,
   "metadata": {
    "collapsed": true
   },
   "outputs": [],
   "source": [
    "#build a data structure\n",
    "class Node:\n",
    "    def __init__(self, dataval=None):\n",
    "        self.val = dataval\n",
    "        self.next = None"
   ]
  },
  {
   "cell_type": "code",
   "execution_count": 58,
   "metadata": {
    "collapsed": false
   },
   "outputs": [],
   "source": [
    "#Build a linked list\n",
    "\n",
    "e1 = Node(\"Mon\")\n",
    "e2 = Node(\"Tue\")\n",
    "e3 = Node(\"Wed\")\n",
    "e4 = Node(\"Thu\")\n",
    "e5 = Node(\"Fri\")\n",
    "e6 = Node(\"Sat\")\n",
    "e7 = Node(\"Sun\")\n",
    "\n",
    "e1.next = e2\n",
    "e2.next = e3\n",
    "e3.next = e4\n",
    "e4.next = e5\n",
    "e5.next = e6\n",
    "e6.next = e7"
   ]
  },
  {
   "cell_type": "code",
   "execution_count": 59,
   "metadata": {
    "collapsed": false
   },
   "outputs": [
    {
     "name": "stdout",
     "output_type": "stream",
     "text": [
      "Mon\n",
      "Tue\n",
      "Wed\n",
      "Thu\n",
      "Fri\n",
      "Sat\n",
      "Sun\n"
     ]
    }
   ],
   "source": [
    "#print the list\n",
    "\n",
    "def listprint(start):\n",
    "    n = start\n",
    "    while n is not None:\n",
    "        print (n.val)\n",
    "        n = n.next\n",
    "        \n",
    "listprint(e1)"
   ]
  },
  {
   "cell_type": "code",
   "execution_count": 60,
   "metadata": {
    "collapsed": false
   },
   "outputs": [
    {
     "name": "stdout",
     "output_type": "stream",
     "text": [
      "Prep-Day\n",
      "Mon\n",
      "Tue\n",
      "Thu\n",
      "Fri\n",
      "Sat\n",
      "Sun\n"
     ]
    }
   ],
   "source": [
    "#insert a new node\n",
    "start = Node(\"Prep-Day\")\n",
    "start.next = e1\n",
    "listprint(e0)"
   ]
  },
  {
   "cell_type": "code",
   "execution_count": 63,
   "metadata": {
    "collapsed": true
   },
   "outputs": [],
   "source": [
    "#remove a node (remove thu)\n",
    "e3.next = e5"
   ]
  },
  {
   "cell_type": "code",
   "execution_count": 64,
   "metadata": {
    "collapsed": false
   },
   "outputs": [
    {
     "name": "stdout",
     "output_type": "stream",
     "text": [
      "Prep-Day\n",
      "Mon\n",
      "Tue\n",
      "Wed\n",
      "Fri\n",
      "Sat\n",
      "Sun\n"
     ]
    }
   ],
   "source": [
    "listprint(start)"
   ]
  },
  {
   "cell_type": "code",
   "execution_count": null,
   "metadata": {
    "collapsed": true
   },
   "outputs": [],
   "source": []
  },
  {
   "cell_type": "code",
   "execution_count": null,
   "metadata": {
    "collapsed": true
   },
   "outputs": [],
   "source": []
  }
 ],
 "metadata": {
  "kernelspec": {
   "display_name": "Python 3",
   "language": "python",
   "name": "python3"
  },
  "language_info": {
   "codemirror_mode": {
    "name": "ipython",
    "version": 3
   },
   "file_extension": ".py",
   "mimetype": "text/x-python",
   "name": "python",
   "nbconvert_exporter": "python",
   "pygments_lexer": "ipython3",
   "version": "3.6.4"
  }
 },
 "nbformat": 4,
 "nbformat_minor": 2
}
