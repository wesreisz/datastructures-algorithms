{
 "cells": [
  {
   "cell_type": "code",
   "execution_count": 1,
   "metadata": {
    "collapsed": false,
    "deletable": true,
    "editable": true
   },
   "outputs": [
    {
     "name": "stdout",
     "output_type": "stream",
     "text": [
      "True\n",
      "True\n",
      "True\n",
      "False\n",
      "False\n",
      "False\n"
     ]
    }
   ],
   "source": [
    "#logic to check the case\n",
    "def checkMixedCase(val1,val2):\n",
    "    if (val1.isupper()):\n",
    "        if val2.islower():\n",
    "            return True\n",
    "    else:\n",
    "         if val2.isupper():\n",
    "            return True\n",
    "    return False\n",
    "\n",
    "def isUpperAndLowerSet(val1 = None,val2 = None):\n",
    "    if (not (val1 and val2)) or (val1.isdigit() or val2.isdigit()):\n",
    "        return False\n",
    "    \n",
    "    if val1.upper() != val2.upper():\n",
    "        return False\n",
    "    else:\n",
    "        if (checkMixedCase(val1,val2) and checkMixedCase(val2,val1)):\n",
    "            return True\n",
    "    return False\n",
    "\n",
    "print(isUpperAndLowerSet('e','E'))\n",
    "print(isUpperAndLowerSet('A','a'))\n",
    "print(isUpperAndLowerSet('z','Z'))\n",
    "print(isUpperAndLowerSet('C','C'))\n",
    "print(isUpperAndLowerSet('1',1))\n",
    "print(isUpperAndLowerSet('1','1'))"
   ]
  },
  {
   "cell_type": "code",
   "execution_count": 2,
   "metadata": {
    "collapsed": false,
    "deletable": true,
    "editable": true
   },
   "outputs": [
    {
     "name": "stdout",
     "output_type": "stream",
     "text": [
      "['d', 'a', 'b', 'A', 'c', 'C', 'a', 'C', 'B', 'A', 'c', 'C', 'c', 'a', 'D', 'A']\n"
     ]
    }
   ],
   "source": [
    "#get data\n",
    "input = open(\"input.txt\", \"r\").read()\n",
    "units = list(input)\n",
    "print(units)"
   ]
  },
  {
   "cell_type": "code",
   "execution_count": 3,
   "metadata": {
    "collapsed": false,
    "deletable": true,
    "editable": true
   },
   "outputs": [
    {
     "name": "stdout",
     "output_type": "stream",
     "text": [
      "dabCBAcaDA\n",
      "counter: 4\n",
      "elements: 10\n"
     ]
    }
   ],
   "source": [
    "#get data\n",
    "debug = False\n",
    "input = open(\"input.txt\", \"r\").read()\n",
    "units = list(input)\n",
    "\n",
    "def reactiveElementsInList(units):\n",
    "    for i in range(len(units)):\n",
    "        if debug: print(units)\n",
    "        if i<(len(units)-1):\n",
    "            val1 = units[i]\n",
    "            val2 = units[i+1]\n",
    "            if debug: print(\"checking this pair: [{0},{1}]\".format(val1,val2))\n",
    "            if isUpperAndLowerSet(val1, val2):\n",
    "                if debug: print(\" - match found\")\n",
    "                del units[i:i+2]\n",
    "                return True\n",
    "    return False\n",
    "\n",
    "counter = 0\n",
    "while True:\n",
    "    counter += 1\n",
    "    if not reactiveElementsInList(units):\n",
    "        break\n",
    "    \n",
    "print(''.join(units))\n",
    "print(\"counter: \" + str(counter))\n",
    "print(\"elements: \" + str(len(units)))"
   ]
  },
  {
   "cell_type": "code",
   "execution_count": 41,
   "metadata": {
    "collapsed": false,
    "deletable": true,
    "editable": true
   },
   "outputs": [
    {
     "name": "stdout",
     "output_type": "stream",
     "text": [
      "Actual : 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\n",
      "10250\n"
     ]
    }
   ],
   "source": [
    "#get data\n",
    "debug = False\n",
    "input_data = open(\"input_actual.txt\", \"r\").read()\n",
    "units = list(input_data)\n",
    "\n",
    "def reactiveElementsInList(units):\n",
    "    for i in range(len(units)):\n",
    "        if debug: print(''.join(units))\n",
    "        \n",
    "        while i<(len(units)-1):\n",
    "            val1 = units[i]\n",
    "            val2 = units[i+1]\n",
    "            if debug: print(\"position: {0}\".format(i))\n",
    "            if debug: print(\"checking this pair: [{0},{1}]\".format(val1,val2))\n",
    "            \n",
    "            if isUpperAndLowerSet(val1, val2):\n",
    "                if debug: print(\" --- match found, removing both --- \")\n",
    "                \n",
    "                del units[i:i+2] #remove the matches\n",
    "                i = i-2\n",
    "               \n",
    "                if i<0: i = 0    #make sure we don't go past zero\n",
    "                \n",
    "                if debug: print(\"\")\n",
    "                if debug: print(''.join(units))\n",
    "                if debug: print(\"\")\n",
    "            else:\n",
    "                if debug: print(\"keeping: {0}\".format(val1))\n",
    "                if debug: print(\"\")\n",
    "                i += 1    \n",
    "                \n",
    "        else:\n",
    "            return units\n",
    "        \n",
    "reduced_list = reactiveElementsInList(units)\n",
    "\n",
    "if debug: print(''.join(input_data))\n",
    "if debug: print('Correct: dabCBAcaDA')\n",
    "print('Actual : ' + ''.join(reduced_list))\n",
    "print(\"\" + str(len(reduced_list)))"
   ]
  },
  {
   "cell_type": "code",
   "execution_count": 5,
   "metadata": {
    "collapsed": false,
    "deletable": true,
    "editable": true
   },
   "outputs": [
    {
     "ename": "NameError",
     "evalue": "name 'dabCBAcaDA' is not defined",
     "output_type": "error",
     "traceback": [
      "\u001b[0;31m---------------------------------------------------------------------------\u001b[0m",
      "\u001b[0;31mNameError\u001b[0m                                 Traceback (most recent call last)",
      "\u001b[0;32m<ipython-input-5-8959465f5564>\u001b[0m in \u001b[0;36m<module>\u001b[0;34m()\u001b[0m\n\u001b[0;32m----> 1\u001b[0;31m \u001b[0mdabCBAcaDA\u001b[0m\u001b[0;34m\u001b[0m\u001b[0m\n\u001b[0m",
      "\u001b[0;31mNameError\u001b[0m: name 'dabCBAcaDA' is not defined"
     ]
    }
   ],
   "source": [
    "dabCBAcaDA"
   ]
  }
 ],
 "metadata": {
  "kernelspec": {
   "display_name": "Python 3",
   "language": "python",
   "name": "python3"
  },
  "language_info": {
   "codemirror_mode": {
    "name": "ipython",
    "version": 3
   },
   "file_extension": ".py",
   "mimetype": "text/x-python",
   "name": "python",
   "nbconvert_exporter": "python",
   "pygments_lexer": "ipython3",
   "version": "3.6.4"
  }
 },
 "nbformat": 4,
 "nbformat_minor": 2
}
