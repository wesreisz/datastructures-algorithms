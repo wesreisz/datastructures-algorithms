{
 "cells": [
  {
   "cell_type": "markdown",
   "metadata": {
    "deletable": true,
    "editable": true
   },
   "source": [
    "### --- Day 6: Chronal Coordinates ---\n",
    "- Get the Points (call them destinations)\n",
    "- From origin {0,0}, sort list into an ordereddict\n",
    "- Define grid from the lowest to highest distinations from origin\n",
    "- Create an object to represent each node that contains a destination flag and an array of nearest neighbors\n",
    "- Iterate entire grid finding nearest destination to each point using Manhatten distance formula (if x=(a,b) and y=(c,d), then |a−c|+|b−d|)\n",
    "- iterate entire grid, for each position add all unique nearest neighbors to a hashmap.\n",
    "- display largest value"
   ]
  },
  {
   "cell_type": "code",
   "execution_count": 3,
   "metadata": {
    "collapsed": false,
    "deletable": true,
    "editable": true
   },
   "outputs": [
    {
     "name": "stdout",
     "output_type": "stream",
     "text": [
      "[0,0]\n",
      "[1,1]\n"
     ]
    }
   ],
   "source": [
    "class Coordinate():\n",
    "    def __init__(self, line):\n",
    "        x = line.split(\",\")[0].strip()\n",
    "        y = line.split(\",\")[1].strip()\n",
    "        self.x = int(x)\n",
    "        self.y = int(y)\n",
    "    def __str__(self):\n",
    "        return \"[{0},{1}]\".format(self.x,self.y)\n",
    "    def __repr__(self):\n",
    "        return self.__str__()\n",
    "\n",
    "val1 = Coordinate(\"0,0\")\n",
    "val2 = Coordinate(\"1,1\")\n",
    "print(val1)\n",
    "print(val2)"
   ]
  },
  {
   "cell_type": "code",
   "execution_count": 4,
   "metadata": {
    "collapsed": false,
    "deletable": true,
    "editable": true
   },
   "outputs": [
    {
     "name": "stdout",
     "output_type": "stream",
     "text": [
      "['1, 1\\n', '1, 6\\n', '8, 3\\n', '3, 4\\n', '5, 5\\n', '8, 9']\n"
     ]
    }
   ],
   "source": [
    "coords = open(\"test_input.txt\", \"r\").readlines()\n",
    "print(coords)"
   ]
  },
  {
   "cell_type": "code",
   "execution_count": 5,
   "metadata": {
    "collapsed": false,
    "deletable": true,
    "editable": true
   },
   "outputs": [
    {
     "data": {
      "text/plain": [
       "2"
      ]
     },
     "execution_count": 5,
     "metadata": {},
     "output_type": "execute_result"
    }
   ],
   "source": [
    "def getManhattenDistanceBetween(val1,val2):\n",
    "    if (not isinstance(val1,Coordinate) and not isinstance(val2,Coordinate)):\n",
    "        print(\"Invalid input\")\n",
    "        return \n",
    "    #if debug: print(str(val1) + \" & \" + str(val2))\n",
    "    return abs(val1.x-val2.x) + abs(val1.y-val2.y)\n",
    "\n",
    "getManhattenDistanceBetween(Coordinate(\"0,0\"),Coordinate(\"1, 1\\n\"))"
   ]
  },
  {
   "cell_type": "code",
   "execution_count": 6,
   "metadata": {
    "collapsed": false,
    "deletable": true,
    "editable": true
   },
   "outputs": [
    {
     "name": "stdout",
     "output_type": "stream",
     "text": [
      "[('A', [1,1]), ('B', [1,6]), ('C', [8,3]), ('D', [3,4]), ('E', [5,5]), ('F', [8,9])]\n"
     ]
    }
   ],
   "source": [
    "def name_destinations(coords):\n",
    "    val = 65 \n",
    "    results = []\n",
    "    for coord in coords:\n",
    "        c = Coordinate(coord)\n",
    "        result = (chr(val), c)\n",
    "        results.append(result)\n",
    "        val += 1\n",
    "        \n",
    "    return results\n",
    "\n",
    "destinations = name_destinations(coords)\n",
    "print(destinations)"
   ]
  },
  {
   "cell_type": "code",
   "execution_count": 7,
   "metadata": {
    "collapsed": false,
    "deletable": true,
    "editable": true
   },
   "outputs": [
    {
     "name": "stdout",
     "output_type": "stream",
     "text": [
      "('A', [1,1])\n",
      "('B', [1,6])\n",
      "('C', [8,3])\n",
      "('D', [3,4])\n",
      "('E', [5,5])\n",
      "('F', [8,9])\n",
      "x_max: 8\n",
      "y_max: 9\n"
     ]
    }
   ],
   "source": [
    "for d in destinations:\n",
    "    print(d)\n",
    "    \n",
    "x_max = max(p[1].x for p in destinations)\n",
    "y_max = max(p[1].y for p in destinations)\n",
    "print(\"x_max: \" + str(x_max))\n",
    "print(\"y_max: \" + str(y_max))"
   ]
  },
  {
   "cell_type": "code",
   "execution_count": 8,
   "metadata": {
    "collapsed": false,
    "deletable": true,
    "editable": true
   },
   "outputs": [
    {
     "name": "stdout",
     "output_type": "stream",
     "text": [
      "[('A', [1,1]), ('B', [1,6]), ('C', [8,3]), ('D', [3,4]), ('E', [5,5]), ('F', [8,9])]\n",
      "    0  1   2  3   4  5   6   7  8   9   10  11\n",
      "0    0  0   0  0   0  0   0   0  0   0   0   0\n",
      "1    0  A   0  0   0  0   0   0  0   0   0   0\n",
      "2    0  0   0  0   0  0   0   0  0   0   0   0\n",
      "3    0  0   0  0   0  0   0   0  C   0   0   0\n",
      "4    0  0   0  D   0  0   0   0  0   0   0   0\n",
      "5    0  0   0  0   0  E   0   0  0   0   0   0\n",
      "6    0  B   0  0   0  0   0   0  0   0   0   0\n",
      "7    0  0   0  0   0  0   0   0  0   0   0   0\n",
      "8    0  0   0  0   0  0   0   0  0   0   0   0\n",
      "9    0  0   0  0   0  0   0   0  F   0   0   0\n",
      "10   0  0   0  0   0  0   0   0  0   0   0   0\n",
      "11   0  0   0  0   0  0   0   0  0   0   0   0\n",
      "12   0  0   0  0   0  0   0   0  0   0   0   0\n",
      "13   0  0   0  0   0  0   0   0  0   0   0   0\n",
      "14   0  0   0  0   0  0   0   0  0   0   0   0\n",
      "15   0  0   0  0   0  0   0   0  0   0   0   0\n",
      "16   0  0   0  0   0  0   0   0  0   0   0   0\n",
      "17   0  0   0  0   0  0   0   0  0   0   0   0\n",
      "18   0  0   0  0   0  0   0   0  0   0   0   0\n",
      "19   0  0   0  0   0  0   0   0  0   0   0   0\n"
     ]
    }
   ],
   "source": [
    "from pandas import * #! pip3 install pandas\n",
    "\n",
    "x_max = 12 #max(p[1].x for p in destinations) + 1 #zero based\n",
    "y_max = 20 #max(p[1].y for p in destinations) + 1 #zero based\n",
    "\n",
    "dest_map = DataFrame([[0 for y in range(x_max)] for i in range(y_max)])\n",
    "\n",
    "for name, coord in destinations:\n",
    "    dest_map.loc[coord.y,coord.x] =  name     #faster, treats as one call\n",
    "\n",
    "print(destinations)    \n",
    "print(dest_map)"
   ]
  },
  {
   "cell_type": "code",
   "execution_count": 9,
   "metadata": {
    "collapsed": false,
    "deletable": true,
    "editable": true
   },
   "outputs": [
    {
     "name": "stdout",
     "output_type": "stream",
     "text": [
      "A::[1,1]->3\n",
      "B::[1,6]->2\n",
      "C::[8,3]->8\n",
      "D::[3,4]->2\n",
      "E::[5,5]->5\n",
      "F::[8,9]->12\n",
      "Closest destination to [1,4]: .\n"
     ]
    }
   ],
   "source": [
    "debug = True\n",
    "def closest_match(position):\n",
    "    distance = 1000\n",
    "    match_destination = None\n",
    "    for destination in destinations:\n",
    "        tmp = getManhattenDistanceBetween(position,destination[1])\n",
    "        \n",
    "        if debug: print(\"{2}::{0}->{1}\".format(destination[1],tmp,destination[0]))\n",
    "        \n",
    "        if not match_destination is None:\n",
    "            if tmp<distance:                     #least distance\n",
    "                distance = tmp\n",
    "                match_destination = destination  #multiple match\n",
    "            elif tmp==distance:\n",
    "                match_destination = \".\"\n",
    "            else:\n",
    "                next                             #stop looking\n",
    "            \n",
    "        else:\n",
    "            match_destination = destination[0]\n",
    "            distance = tmp\n",
    "    return match_destination \n",
    "        \n",
    "dest = closest_match(Coordinate(\"1,4\"))   \n",
    "print(\"Closest destination to [1,4]: \" + str(dest))"
   ]
  },
  {
   "cell_type": "code",
   "execution_count": 13,
   "metadata": {
    "collapsed": false,
    "deletable": true,
    "editable": true
   },
   "outputs": [
    {
     "name": "stdout",
     "output_type": "stream",
     "text": [
      "Total size: 10\n",
      " - row 0\n",
      " - row 1\n",
      " - row 2\n",
      " - row 3\n",
      " - row 4\n",
      " - row 5\n",
      " - row 6\n",
      " - row 7\n",
      " - row 8\n",
      " - row 9\n",
      "   0  1  2  3  4  5  6  7  8\n",
      "0  a  a  a  a  a  .  c  c  c\n",
      "1  a  a  a  a  a  .  c  c  c\n",
      "2  a  a  a  d  d  e  c  c  c\n",
      "3  a  a  d  d  d  e  c  c  c\n",
      "4  .  .  d  d  d  e  e  c  c\n",
      "5  b  b  .  d  e  e  e  e  c\n",
      "6  b  b  b  .  e  e  e  e  .\n",
      "7  b  b  b  .  e  e  e  f  f\n",
      "8  b  b  b  .  e  e  f  f  f\n",
      "9  b  b  b  .  f  f  f  f  f\n"
     ]
    }
   ],
   "source": [
    "debug = False\n",
    "\n",
    "def buildMap(destinations):\n",
    "    x_max = max(p[1].x for p in destinations) + 1 #zero based\n",
    "    y_max = max(p[1].y for p in destinations) + 1 #zero based\n",
    "    dest_map = DataFrame([[0 for y in range(x_max)] for i in range(y_max)])\n",
    "\n",
    "    print(\"Total size: {0}\".format(len(dest_map)))\n",
    "    for row_index, row in dest_map.iterrows():\n",
    "        for col_index, val in enumerate(row):\n",
    "            if val == 0:\n",
    "                addr = \"{0},{1}\".format(col_index,row_index)\n",
    "                dest = closest_match(Coordinate(addr)) \n",
    "                if debug: print(\"closest match to {0} is {1}\".format(addr,dest))\n",
    "                dest_map.loc[row_index,col_index] = dest[0].lower()\n",
    "            else:\n",
    "                next\n",
    "        print(\" - row {0}\".format(row_index))\n",
    "    \n",
    "    return dest_map\n",
    "\n",
    "dest_map = buildMap(destinations)\n",
    "print(dest_map)"
   ]
  },
  {
   "cell_type": "code",
   "execution_count": 14,
   "metadata": {
    "collapsed": false,
    "deletable": true,
    "editable": true
   },
   "outputs": [
    {
     "name": "stdout",
     "output_type": "stream",
     "text": [
      "{'a': 15, 'c': 15, 'd': 9, 'e': 17, 'b': 14, 'f': 10}\n"
     ]
    }
   ],
   "source": [
    "def mapResults(input_map):\n",
    "    dict = {}\n",
    "    for i, row in input_map.iterrows():\n",
    "        for j, val in row.iteritems():\n",
    "            if not val == '.':\n",
    "                if val.lower() in dict:\n",
    "                    dict[val.lower()] += 1\n",
    "                else:\n",
    "                    dict[val.lower()] = 1\n",
    "    return dict\n",
    "        \n",
    "results = mapResults(dest_map)\n",
    "print(results)\n"
   ]
  },
  {
   "cell_type": "markdown",
   "metadata": {
    "deletable": true,
    "editable": true
   },
   "source": [
    "## remove boundaries\n",
    "Need to remove the infinite boundary values. To do this, take the first and last row of the map in both x and y dimensions, select all values and then remove those values from the map. What remains are the possible answers to this question."
   ]
  },
  {
   "cell_type": "code",
   "execution_count": 15,
   "metadata": {
    "collapsed": true,
    "deletable": true,
    "editable": true
   },
   "outputs": [],
   "source": [
    "def append_unique_values(list2append,list2check):\n",
    "    for i in list2check:\n",
    "        if not i in list2append:\n",
    "            list2append.append(i)"
   ]
  },
  {
   "cell_type": "code",
   "execution_count": 16,
   "metadata": {
    "collapsed": false,
    "deletable": true,
    "editable": true
   },
   "outputs": [
    {
     "name": "stdout",
     "output_type": "stream",
     "text": [
      "{'a': 15, 'c': 15, 'd': 9, 'e': 17, 'b': 14, 'f': 10}\n",
      "   0  1  2  3  4  5  6  7  8\n",
      "0  a  a  a  a  a  .  c  c  c\n",
      "1  a  a  a  a  a  .  c  c  c\n",
      "2  a  a  a  d  d  e  c  c  c\n",
      "3  a  a  d  d  d  e  c  c  c\n",
      "4  .  .  d  d  d  e  e  c  c\n",
      "5  b  b  .  d  e  e  e  e  c\n",
      "6  b  b  b  .  e  e  e  e  .\n",
      "7  b  b  b  .  e  e  e  f  f\n",
      "8  b  b  b  .  e  e  f  f  f\n",
      "9  b  b  b  .  f  f  f  f  f\n",
      "['a', '.', 'c', 'b', 'f']\n"
     ]
    }
   ],
   "source": [
    "print(results)\n",
    "print(dest_map)\n",
    "\n",
    "boundary_destination_list = []\n",
    "append_unique_values(boundary_destination_list,dest_map.iloc[0])\n",
    "append_unique_values(boundary_destination_list,dest_map.iloc[-1])\n",
    "append_unique_values(boundary_destination_list,dest_map.iloc[:,0])\n",
    "append_unique_values(boundary_destination_list,dest_map.iloc[:,-1])\n",
    "print(boundary_destination_list)"
   ]
  },
  {
   "cell_type": "code",
   "execution_count": 17,
   "metadata": {
    "collapsed": false,
    "deletable": true,
    "editable": true
   },
   "outputs": [
    {
     "name": "stdout",
     "output_type": "stream",
     "text": [
      "{'a': 15, 'c': 15, 'd': 9, 'e': 17, 'b': 14, 'f': 10}\n",
      "{'d': 9, 'e': 17}\n"
     ]
    }
   ],
   "source": [
    "def remove_boundaries():\n",
    "    boundary_destination_list = []\n",
    "    append_unique_values(boundary_destination_list,dest_map.iloc[0])\n",
    "    append_unique_values(boundary_destination_list,dest_map.iloc[-1])\n",
    "    append_unique_values(boundary_destination_list,dest_map.iloc[:,0])\n",
    "    append_unique_values(boundary_destination_list,dest_map.iloc[:,-1])\n",
    "    \n",
    "    non_boundary_results = {}\n",
    "    for destination in results:\n",
    "        if not destination in boundary_destination_list:\n",
    "            non_boundary_results[destination] = results[destination]\n",
    "        \n",
    "    return non_boundary_results\n",
    "\n",
    "print(results)\n",
    "li = remove_boundaries()\n",
    "print(li)   "
   ]
  },
  {
   "cell_type": "code",
   "execution_count": 18,
   "metadata": {
    "collapsed": false,
    "deletable": true,
    "editable": true
   },
   "outputs": [
    {
     "ename": "TypeError",
     "evalue": "getMaxValue() missing 1 required positional argument: 'res'",
     "output_type": "error",
     "traceback": [
      "\u001b[0;31m---------------------------------------------------------------------------\u001b[0m",
      "\u001b[0;31mTypeError\u001b[0m                                 Traceback (most recent call last)",
      "\u001b[0;32m<ipython-input-18-f0464521b073>\u001b[0m in \u001b[0;36m<module>\u001b[0;34m()\u001b[0m\n\u001b[1;32m      8\u001b[0m     \u001b[0mprint\u001b[0m\u001b[0;34m(\u001b[0m\u001b[0;34m\"Max Key is {0} :: {1}\"\u001b[0m\u001b[0;34m.\u001b[0m\u001b[0mformat\u001b[0m\u001b[0;34m(\u001b[0m\u001b[0mmax_key\u001b[0m\u001b[0;34m,\u001b[0m\u001b[0mmax_val\u001b[0m\u001b[0;34m)\u001b[0m\u001b[0;34m)\u001b[0m\u001b[0;34m\u001b[0m\u001b[0m\n\u001b[1;32m      9\u001b[0m \u001b[0;34m\u001b[0m\u001b[0m\n\u001b[0;32m---> 10\u001b[0;31m \u001b[0mgetMaxValue\u001b[0m\u001b[0;34m(\u001b[0m\u001b[0;34m)\u001b[0m\u001b[0;34m\u001b[0m\u001b[0m\n\u001b[0m",
      "\u001b[0;31mTypeError\u001b[0m: getMaxValue() missing 1 required positional argument: 'res'"
     ]
    }
   ],
   "source": [
    "def getMaxValue(res):\n",
    "    max_key=''\n",
    "    max_val=0\n",
    "    for key,val in res.items():\n",
    "        if val > max_val:\n",
    "            max_val = val\n",
    "            max_key = key\n",
    "    print(\"Max Key is {0} :: {1}\".format(max_key,max_val))\n",
    "\n",
    "getMaxValue(li)"
   ]
  },
  {
   "cell_type": "code",
   "execution_count": 2,
   "metadata": {
    "collapsed": false,
    "deletable": true,
    "editable": true
   },
   "outputs": [
    {
     "ename": "NameError",
     "evalue": "name 'name_destinations' is not defined",
     "output_type": "error",
     "traceback": [
      "\u001b[0;31m---------------------------------------------------------------------------\u001b[0m",
      "\u001b[0;31mNameError\u001b[0m                                 Traceback (most recent call last)",
      "\u001b[0;32m<ipython-input-2-5921c409fe42>\u001b[0m in \u001b[0;36m<module>\u001b[0;34m()\u001b[0m\n\u001b[1;32m      1\u001b[0m \u001b[0mcoords\u001b[0m \u001b[0;34m=\u001b[0m \u001b[0mopen\u001b[0m\u001b[0;34m(\u001b[0m\u001b[0;34m\"6.txt\"\u001b[0m\u001b[0;34m,\u001b[0m \u001b[0;34m\"r\"\u001b[0m\u001b[0;34m)\u001b[0m\u001b[0;34m.\u001b[0m\u001b[0mreadlines\u001b[0m\u001b[0;34m(\u001b[0m\u001b[0;34m)\u001b[0m\u001b[0;34m\u001b[0m\u001b[0m\n\u001b[0;32m----> 2\u001b[0;31m \u001b[0mdestinations\u001b[0m \u001b[0;34m=\u001b[0m \u001b[0mname_destinations\u001b[0m\u001b[0;34m(\u001b[0m\u001b[0mcoords\u001b[0m\u001b[0;34m)\u001b[0m\u001b[0;34m\u001b[0m\u001b[0m\n\u001b[0m\u001b[1;32m      3\u001b[0m \u001b[0;34m\u001b[0m\u001b[0m\n\u001b[1;32m      4\u001b[0m \u001b[0mprint\u001b[0m\u001b[0;34m(\u001b[0m\u001b[0;34m\"- Building Map\"\u001b[0m\u001b[0;34m)\u001b[0m\u001b[0;34m\u001b[0m\u001b[0m\n\u001b[1;32m      5\u001b[0m \u001b[0mdest_map\u001b[0m \u001b[0;34m=\u001b[0m \u001b[0mbuildMap\u001b[0m\u001b[0;34m(\u001b[0m\u001b[0mdestinations\u001b[0m\u001b[0;34m)\u001b[0m\u001b[0;34m\u001b[0m\u001b[0m\n",
      "\u001b[0;31mNameError\u001b[0m: name 'name_destinations' is not defined"
     ]
    }
   ],
   "source": [
    "coords = open(\"6.txt\", \"r\").readlines()\n",
    "destinations = name_destinations(coords)\n",
    "\n",
    "print(\"- Building Map\")\n",
    "dest_map = buildMap(destinations)\n",
    "print(\"- Built Map\")\n",
    "print(\"- Mapping Results\")\n",
    "results = mapResults(dest_map)\n",
    "print(\"- Removing Boundaries\")\n",
    "nonboundary_results = remove_boundaries()\n",
    "getMaxValue(nonboundary_results)"
   ]
  },
  {
   "cell_type": "code",
   "execution_count": null,
   "metadata": {
    "collapsed": true,
    "deletable": true,
    "editable": true
   },
   "outputs": [],
   "source": []
  }
 ],
 "metadata": {
  "kernelspec": {
   "display_name": "Python 3",
   "language": "python",
   "name": "python3"
  },
  "language_info": {
   "codemirror_mode": {
    "name": "ipython",
    "version": 3
   },
   "file_extension": ".py",
   "mimetype": "text/x-python",
   "name": "python",
   "nbconvert_exporter": "python",
   "pygments_lexer": "ipython3",
   "version": "3.6.4"
  }
 },
 "nbformat": 4,
 "nbformat_minor": 2
}
