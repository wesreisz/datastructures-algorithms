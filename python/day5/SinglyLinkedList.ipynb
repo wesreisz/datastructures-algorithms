{
 "cells": [
  {
   "cell_type": "markdown",
   "metadata": {},
   "source": [
    "### Test Your Understanding\n",
    "Test your understanding of what did yesterday. Implement a LinkedList in Python. I should take the values: Wes, Kimberly, Leanne, Justin, Tyler\n",
    "\n",
    "Leanne went to college and won't be home for the holidays. Write a method to remove her from the list. "
   ]
  },
  {
   "cell_type": "code",
   "execution_count": 80,
   "metadata": {
    "collapsed": false
   },
   "outputs": [],
   "source": [
    "vals = ['Wes','Kimberly','Leanne','Justin','Tyler']\n",
    "class Node():\n",
    "    def __init__(self,nodeValue=''):\n",
    "        self.nodeValue = nodeValue\n",
    "        self.nodeNext = None\n",
    "    def __str__(self):\n",
    "        return self.nodeValue "
   ]
  },
  {
   "cell_type": "code",
   "execution_count": 81,
   "metadata": {
    "collapsed": false
   },
   "outputs": [
    {
     "name": "stdout",
     "output_type": "stream",
     "text": [
      "Wes::Kimberly\n"
     ]
    }
   ],
   "source": [
    "#create the linked list\n",
    "def buildList(vals):\n",
    "    head = None\n",
    "    prev = None\n",
    "    for val in vals:\n",
    "        n = Node(val)\n",
    "        if head == None:\n",
    "            head = n\n",
    "            prev = n\n",
    "        else:\n",
    "            prev.nodeNext = n\n",
    "            prev = n \n",
    "    return head\n",
    "\n",
    "head = buildList(vals)            \n",
    "print(head.nodeValue + \"::\" + head.nodeNext.nodeValue)"
   ]
  },
  {
   "cell_type": "code",
   "execution_count": 82,
   "metadata": {
    "collapsed": false
   },
   "outputs": [
    {
     "name": "stdout",
     "output_type": "stream",
     "text": [
      "Wes\n",
      "Kimberly\n",
      "Leanne\n",
      "Justin\n",
      "Tyler\n"
     ]
    },
    {
     "data": {
      "text/plain": [
       "False"
      ]
     },
     "execution_count": 82,
     "metadata": {},
     "output_type": "execute_result"
    }
   ],
   "source": [
    "#print the results\n",
    "def printNode(n):\n",
    "    curr = n\n",
    "    while curr:\n",
    "        print(curr)\n",
    "        curr = curr.nodeNext\n",
    "\n",
    "    return False\n",
    "printNode(head)"
   ]
  },
  {
   "cell_type": "code",
   "execution_count": 83,
   "metadata": {
    "collapsed": false
   },
   "outputs": [
    {
     "name": "stdout",
     "output_type": "stream",
     "text": [
      "Wes\n",
      "Kimberly\n",
      "Leanne\n",
      "Justin\n",
      "Tyler\n"
     ]
    },
    {
     "data": {
      "text/plain": [
       "False"
      ]
     },
     "execution_count": 83,
     "metadata": {},
     "output_type": "execute_result"
    }
   ],
   "source": [
    "printNode(head)"
   ]
  },
  {
   "cell_type": "code",
   "execution_count": 84,
   "metadata": {
    "collapsed": false
   },
   "outputs": [
    {
     "name": "stdout",
     "output_type": "stream",
     "text": [
      "Wes\n",
      "Kimberly\n",
      "Justin\n",
      "Tyler\n"
     ]
    }
   ],
   "source": [
    "def removeNode(head,text2match):\n",
    "    prev = None\n",
    "    curr = head\n",
    "    while curr:\n",
    "        if curr.nodeValue == text2match:\n",
    "            if prev:\n",
    "                prev.nodeNext = curr.nodeNext\n",
    "            else:\n",
    "                head = curr.nodeNext\n",
    "            return True\n",
    "\n",
    "        prev = curr\n",
    "        curr = curr.nodeNext\n",
    "\n",
    "    return False\n",
    "\n",
    "removeNode(head,'Leanne')\n",
    "\n",
    "#print the results\n",
    "n = head\n",
    "again = True\n",
    "while(again):\n",
    "    print(n)\n",
    "    n = n.nodeNext\n",
    "    if n == None:\n",
    "        again = False"
   ]
  },
  {
   "cell_type": "code",
   "execution_count": 86,
   "metadata": {
    "collapsed": false
   },
   "outputs": [
    {
     "name": "stdout",
     "output_type": "stream",
     "text": [
      "Wes\n",
      "Kimberly\n",
      "Justin\n",
      "Tyler\n"
     ]
    },
    {
     "data": {
      "text/plain": [
       "False"
      ]
     },
     "execution_count": 86,
     "metadata": {},
     "output_type": "execute_result"
    }
   ],
   "source": [
    "printNode(head)"
   ]
  },
  {
   "cell_type": "code",
   "execution_count": null,
   "metadata": {
    "collapsed": true
   },
   "outputs": [],
   "source": []
  },
  {
   "cell_type": "code",
   "execution_count": null,
   "metadata": {
    "collapsed": true
   },
   "outputs": [],
   "source": []
  }
 ],
 "metadata": {
  "kernelspec": {
   "display_name": "Python 3",
   "language": "python",
   "name": "python3"
  },
  "language_info": {
   "codemirror_mode": {
    "name": "ipython",
    "version": 3
   },
   "file_extension": ".py",
   "mimetype": "text/x-python",
   "name": "python",
   "nbconvert_exporter": "python",
   "pygments_lexer": "ipython3",
   "version": "3.6.4"
  }
 },
 "nbformat": 4,
 "nbformat_minor": 2
}
