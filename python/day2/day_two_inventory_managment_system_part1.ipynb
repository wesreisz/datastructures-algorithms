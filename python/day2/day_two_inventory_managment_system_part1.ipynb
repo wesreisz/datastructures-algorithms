{
 "cells": [
  {
   "cell_type": "code",
   "execution_count": 1,
   "metadata": {},
   "outputs": [],
   "source": [
    "import collections"
   ]
  },
  {
   "cell_type": "code",
   "execution_count": 2,
   "metadata": {},
   "outputs": [
    {
     "name": "stdout",
     "output_type": "stream",
     "text": [
      "{'2': 248, '3': 31}\n"
     ]
    }
   ],
   "source": [
    "lines = open(\"input.txt\", \"r\").readlines()\n",
    "\n",
    "character_dict = {\"2\":0,\"3\":0}\n",
    "for line in lines:\n",
    "    freq = collections.Counter(line)\n",
    "    found_two = True\n",
    "    found_three = True\n",
    "    for k in freq:\n",
    "        if (freq[k]==2 and found_two):\n",
    "            found_two = False\n",
    "            character_dict[\"2\"] += 1\n",
    "        if (freq[k]==3 and found_three):\n",
    "            found_three = False\n",
    "            character_dict[\"3\"] += 1\n",
    "\n",
    "print(character_dict)"
   ]
  },
  {
   "cell_type": "code",
   "execution_count": 3,
   "metadata": {},
   "outputs": [
    {
     "name": "stdout",
     "output_type": "stream",
     "text": [
      "7688\n"
     ]
    }
   ],
   "source": [
    "print(character_dict[\"2\"]*character_dict[\"3\"])"
   ]
  },
  {
   "cell_type": "code",
   "execution_count": null,
   "metadata": {},
   "outputs": [],
   "source": []
  }
 ],
 "metadata": {
  "kernelspec": {
   "display_name": "Python 3",
   "language": "python",
   "name": "python3"
  },
  "language_info": {
   "codemirror_mode": {
    "name": "ipython",
    "version": 3
   },
   "file_extension": ".py",
   "mimetype": "text/x-python",
   "name": "python",
   "nbconvert_exporter": "python",
   "pygments_lexer": "ipython3",
   "version": "3.6.4"
  }
 },
 "nbformat": 4,
 "nbformat_minor": 2
}
