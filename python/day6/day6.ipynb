{
 "cells": [
  {
   "cell_type": "markdown",
   "metadata": {},
   "source": [
    "### --- Day 6: Chronal Coordinates ---\n",
    "- Get the Points (call them destinations)\n",
    "- From origin {0,0}, sort list into an ordereddict\n",
    "- Define grid from the lowest to highest distinations from origin\n",
    "- Create an object to represent each node that contains a destination flag and an array of nearest neighbors\n",
    "- Iterate entire grid finding nearest destination to each point using Manhatten distance formula (if x=(a,b) and y=(c,d), then |a−c|+|b−d|)\n",
    "- iterate entire grid, for each position add all unique nearest neighbors to a hashmap.\n",
    "- display largest value"
   ]
  },
  {
   "cell_type": "code",
   "execution_count": 1,
   "metadata": {},
   "outputs": [],
   "source": [
    "class Coordinate():\n",
    "    def __init__(self, line):\n",
    "        x = line.split(\",\")[0].strip()\n",
    "        y = line.split(\",\")[1].strip()\n",
    "        self.x = int(x)\n",
    "        self.y = int(y)\n",
    "    def __str__(self):\n",
    "        return \"[{0},{1}]\".format(self.x,self.y)\n",
    "    def __repr__(self):\n",
    "        return self.__str__()\n",
    "\n",
    "val1 = Coordinate(\"0,0\")\n",
    "val2 = Coordinate(\"1,1\")\n",
    "print(val1)\n",
    "print(val2)"
   ]
  },
  {
   "cell_type": "code",
   "execution_count": 2,
   "metadata": {},
   "outputs": [],
   "source": [
    "coords = open(\"6.txt\", \"r\").readlines()\n",
    "print(coords)"
   ]
  },
  {
   "cell_type": "code",
   "execution_count": 3,
   "metadata": {},
   "outputs": [],
   "source": [
    "def getManhattenDistanceBetween(val1,val2):\n",
    "    if (not isinstance(val1,Coordinate) and not isinstance(val2,Coordinate)):\n",
    "        print(\"Invalid input\")\n",
    "        return \n",
    "    #if debug: print(str(val1) + \" & \" + str(val2))\n",
    "    return abs(val1.x-val2.x) + abs(val1.y-val2.y)\n",
    "\n",
    "getManhattenDistanceBetween(Coordinate(\"0,0\"),Coordinate(\"1, 1\\n\"))"
   ]
  },
  {
   "cell_type": "code",
   "execution_count": 4,
   "metadata": {},
   "outputs": [],
   "source": [
    "def name_destinations(coords):\n",
    "    val = 65 \n",
    "    results = []\n",
    "    for coord in coords:\n",
    "        c = Coordinate(coord)\n",
    "        result = (chr(val), c)\n",
    "        results.append(result)\n",
    "        val += 1\n",
    "        \n",
    "    return results\n",
    "\n",
    "destinations = name_destinations(coords)\n",
    "print(destinations)"
   ]
  },
  {
   "cell_type": "code",
   "execution_count": 5,
   "metadata": {},
   "outputs": [
    {
     "name": "stdout",
     "output_type": "stream",
     "text": [
      "[('A', [1,1]), ('B', [1,6]), ('C', [8,3]), ('D', [3,4]), ('E', [5,5]), ('F', [8,9])]\n",
      "   0  1  2  3  4  5  6  7  8  9\n",
      "0  0  0  0  0  0  0  0  0  0  0\n",
      "1  0  A  0  0  0  0  0  0  0  0\n",
      "2  0  0  0  0  0  0  0  0  0  0\n",
      "3  0  0  0  0  0  0  0  0  C  0\n",
      "4  0  0  0  D  0  0  0  0  0  0\n",
      "5  0  0  0  0  0  E  0  0  0  0\n",
      "6  0  B  0  0  0  0  0  0  0  0\n",
      "7  0  0  0  0  0  0  0  0  0  0\n",
      "8  0  0  0  0  0  0  0  0  0  0\n",
      "9  0  0  0  0  0  0  0  0  F  0\n"
     ]
    }
   ],
   "source": [
    "from pandas import * #! pip3 install pandas\n",
    "\n",
    "dest_map = DataFrame([[0 for y in range(10)] for i in range(10)])\n",
    "\n",
    "for name, coord in destinations:\n",
    "    dest_map.loc[coord.y,coord.x] =  name     #faster, treats as one call\n",
    "\n",
    "print(destinations)    \n",
    "print(dest_map)"
   ]
  },
  {
   "cell_type": "markdown",
   "metadata": {},
   "source": [
    "for each location on the dest_map, iterate destinations and find closest using Manhatten distance"
   ]
  },
  {
   "cell_type": "code",
   "execution_count": 6,
   "metadata": {},
   "outputs": [
    {
     "name": "stdout",
     "output_type": "stream",
     "text": [
      "A::[1,1]->3\n",
      "B::[1,6]->2\n",
      "C::[8,3]->8\n",
      "D::[3,4]->2\n",
      "E::[5,5]->5\n",
      "F::[8,9]->12\n",
      "Closest destination to [1,4]: .\n"
     ]
    }
   ],
   "source": [
    "debug = True\n",
    "def closest_match(position):\n",
    "    distance = 1000\n",
    "    match_destination = None\n",
    "    for destination in destinations:\n",
    "        tmp = getManhattenDistanceBetween(position,destination[1])\n",
    "        \n",
    "        if debug: print(\"{2}::{0}->{1}\".format(destination[1],tmp,destination[0]))\n",
    "        \n",
    "        if not match_destination is None:\n",
    "            if tmp<distance:                     #least distance\n",
    "                distance = tmp\n",
    "                match_destination = destination  #multiple match\n",
    "            elif tmp==distance:\n",
    "                match_destination = \".\"\n",
    "            else:\n",
    "                next                             #stop looking\n",
    "            \n",
    "        else:\n",
    "            match_destination = destination[0]\n",
    "            distance = tmp\n",
    "    return match_destination \n",
    "        \n",
    "dest = closest_match(Coordinate(\"1,4\"))   \n",
    "print(\"Closest destination to [1,4]: \" + str(dest))"
   ]
  },
  {
   "cell_type": "code",
   "execution_count": 9,
   "metadata": {},
   "outputs": [
    {
     "name": "stdout",
     "output_type": "stream",
     "text": [
      "   0  1  2  3  4  5  6  7  8  9\n",
      "0  a  a  a  a  a  .  c  c  c  c\n",
      "1  a  A  a  a  a  .  c  c  c  c\n",
      "2  a  a  a  d  d  e  c  c  c  c\n",
      "3  a  a  d  d  d  e  c  c  C  c\n",
      "4  .  .  d  D  d  e  e  c  c  c\n",
      "5  b  b  .  d  e  E  e  e  c  c\n",
      "6  b  B  b  .  e  e  e  e  .  .\n",
      "7  b  b  b  .  e  e  e  f  f  f\n",
      "8  b  b  b  .  e  e  f  f  f  f\n",
      "9  b  b  b  .  f  f  f  f  F  f\n"
     ]
    }
   ],
   "source": [
    "debug = False\n",
    "\n",
    "def buildMap(dest_map):\n",
    "    for row_index, row in dest_map.iterrows():\n",
    "        for col_index, val in enumerate(row):\n",
    "            if val == 0:\n",
    "                addr = \"{0},{1}\".format(col_index,row_index)\n",
    "                dest = closest_match(Coordinate(addr)) \n",
    "                if debug: print(\"closest match to {0} is {1}\".format(addr,dest))\n",
    "                dest_map.loc[row_index,col_index] = dest[0].lower()\n",
    "            else:\n",
    "                next\n",
    "\n",
    "buildMap(dest_map)\n",
    "print(dest_map)"
   ]
  },
  {
   "cell_type": "code",
   "execution_count": null,
   "metadata": {},
   "outputs": [],
   "source": []
  }
 ],
 "metadata": {
  "kernelspec": {
   "display_name": "Python 3",
   "language": "python",
   "name": "python3"
  },
  "language_info": {
   "codemirror_mode": {
    "name": "ipython",
    "version": 3
   },
   "file_extension": ".py",
   "mimetype": "text/x-python",
   "name": "python",
   "nbconvert_exporter": "python",
   "pygments_lexer": "ipython3",
   "version": "3.6.4"
  }
 },
 "nbformat": 4,
 "nbformat_minor": 2
}
