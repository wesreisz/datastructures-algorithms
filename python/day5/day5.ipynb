{
 "cells": [
  {
   "cell_type": "code",
   "execution_count": 80,
   "metadata": {
    "collapsed": false,
    "deletable": true,
    "editable": true
   },
   "outputs": [],
   "source": [
    "#dabAcCaCBAcCcaDA\n",
    "input = open(\"input.txt\", \"r\").read()\n",
    "class Node():\n",
    "    def __init__(self,val=\"\"):\n",
    "        self.nodeValue = val\n",
    "        self.nodeNext = None\n",
    "    def __str__(self):\n",
    "        return self.nodeValue\n",
    "\n",
    "def loadInput(record):\n",
    "    head = None\n",
    "    prev = None\n",
    "    for li in input:\n",
    "        n = Node(li)\n",
    "        if (not prev):\n",
    "            head = n \n",
    "        else:\n",
    "             prev.nodeNext = n\n",
    "        prev = n\n",
    "    return head\n",
    "\n",
    "def printList(curr):\n",
    "    accumulator = \"\"\n",
    "    while curr:\n",
    "        accumulator = accumulator + curr.nodeValue\n",
    "        curr = curr.nodeNext\n",
    "    return accumulator"
   ]
  },
  {
   "cell_type": "code",
   "execution_count": 81,
   "metadata": {
    "collapsed": false,
    "deletable": true,
    "editable": true,
    "scrolled": true
   },
   "outputs": [
    {
     "data": {
      "text/plain": [
       "'AcCa'"
      ]
     },
     "execution_count": 81,
     "metadata": {},
     "output_type": "execute_result"
    }
   ],
   "source": [
    "head = loadInput(input)\n",
    "printList(head)"
   ]
  },
  {
   "cell_type": "code",
   "execution_count": 82,
   "metadata": {
    "collapsed": false,
    "deletable": true,
    "editable": true
   },
   "outputs": [
    {
     "name": "stdout",
     "output_type": "stream",
     "text": [
      "True\n",
      "True\n",
      "True\n",
      "False\n",
      "False\n",
      "False\n"
     ]
    }
   ],
   "source": [
    "def checkMixedCase(val1,val2):\n",
    "    if (val1.isupper()):\n",
    "        if val2.islower():\n",
    "            return True\n",
    "    else:\n",
    "         if val2.isupper():\n",
    "            return True\n",
    "    return False\n",
    "\n",
    "def isUpperAndLowerSet(val1 = None,val2 = None):\n",
    "    if (not (val1 and val2)) or (val1.isdigit() or val2.isdigit()):\n",
    "        return False\n",
    "    \n",
    "    if val1.upper() != val2.upper():\n",
    "        return False\n",
    "    else:\n",
    "        if (checkMixedCase(val1,val2) and checkMixedCase(val2,val1)):\n",
    "            return True\n",
    "    return False\n",
    "\n",
    "print(isUpperAndLowerSet('e','E'))\n",
    "print(isUpperAndLowerSet('A','a'))\n",
    "print(isUpperAndLowerSet('z','Z'))\n",
    "print(isUpperAndLowerSet('C','C'))\n",
    "print(isUpperAndLowerSet('1',1))\n",
    "print(isUpperAndLowerSet('1','1'))"
   ]
  },
  {
   "cell_type": "code",
   "execution_count": 92,
   "metadata": {
    "collapsed": false,
    "deletable": true,
    "editable": true
   },
   "outputs": [
    {
     "name": "stdout",
     "output_type": "stream",
     "text": [
      "AcCa\n",
      " - iteration: 1\n",
      "AcCa\n",
      " - iteration: 2\n",
      "AcCa\n",
      " - Matched c::C\n",
      " - iteration: 3\n",
      "Aca\n",
      " - iteration: 4\n",
      "Aca\n",
      " - iteration: 5\n",
      "5\n",
      "Failed\n",
      "Expected: dabCBAcaDA\n",
      "Actual: Aca\n"
     ]
    }
   ],
   "source": [
    "def foundMatchInSinglePass(prev, curr):\n",
    "    accumulator = \"\"\n",
    "    if(prev and curr):\n",
    "        if isUpperAndLowerSet(prev.nodeValue,curr.nodeValue):\n",
    "            if (curr.nodeNext and prev):\n",
    "                prev.nodeNext = curr.nodeNext\n",
    "                return True\n",
    "        \n",
    "    return False\n",
    "\n",
    "\n",
    "def cleanList(curr):\n",
    "    iterations = 0\n",
    "    head = curr    \n",
    "    prev = None\n",
    "    while curr:\n",
    "        iterations += 1\n",
    "         \n",
    "        #start over if found  \n",
    "        print(printList(head))\n",
    "        if foundMatchInSinglePass(prev, curr):\n",
    "            print(\" - Matched {0}::{1}\".format(prev.nodeValue,curr.nodeValue))\n",
    "            prev = curr.nodeNext.nodeNext \n",
    "            curr = head\n",
    "            \n",
    "        prev = curr\n",
    "        curr = curr.nodeNext\n",
    "        \n",
    "        print(\" - iteration: \" + str(iterations))\n",
    "            \n",
    "    return iterations\n",
    "head = loadInput(input)\n",
    "iterations = cleanList(head) \n",
    "print(iterations)\n",
    "\n",
    "expected = 'dabCBAcaDA'\n",
    "if (expected == printList(head)):\n",
    "    print(\"Success\")\n",
    "else:\n",
    "    print(\"Failed\")\n",
    "print(\"Expected: \" + 'dabCBAcaDA')\n",
    "print(\"Actual: \"+ printList(head))"
   ]
  },
  {
   "cell_type": "code",
   "execution_count": null,
   "metadata": {
    "collapsed": true,
    "deletable": true,
    "editable": true
   },
   "outputs": [],
   "source": []
  },
  {
   "cell_type": "code",
   "execution_count": null,
   "metadata": {
    "collapsed": true
   },
   "outputs": [],
   "source": []
  }
 ],
 "metadata": {
  "kernelspec": {
   "display_name": "Python 3",
   "language": "python",
   "name": "python3"
  },
  "language_info": {
   "codemirror_mode": {
    "name": "ipython",
    "version": 3
   },
   "file_extension": ".py",
   "mimetype": "text/x-python",
   "name": "python",
   "nbconvert_exporter": "python",
   "pygments_lexer": "ipython3",
   "version": "3.6.4"
  }
 },
 "nbformat": 4,
 "nbformat_minor": 2
}
