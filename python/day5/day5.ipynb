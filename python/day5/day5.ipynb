{
 "cells": [
  {
   "cell_type": "code",
   "execution_count": 6,
   "metadata": {
    "collapsed": false,
    "deletable": true,
    "editable": true
   },
   "outputs": [
    {
     "name": "stdout",
     "output_type": "stream",
     "text": [
      "True\n",
      "True\n",
      "True\n",
      "False\n",
      "False\n",
      "False\n"
     ]
    }
   ],
   "source": [
    "#logic to check the case\n",
    "def checkMixedCase(val1,val2):\n",
    "    if (val1.isupper()):\n",
    "        if val2.islower():\n",
    "            return True\n",
    "    else:\n",
    "         if val2.isupper():\n",
    "            return True\n",
    "    return False\n",
    "\n",
    "def isUpperAndLowerSet(val1 = None,val2 = None):\n",
    "    if (not (val1 and val2)) or (val1.isdigit() or val2.isdigit()):\n",
    "        return False\n",
    "    \n",
    "    if val1.upper() != val2.upper():\n",
    "        return False\n",
    "    else:\n",
    "        if (checkMixedCase(val1,val2) and checkMixedCase(val2,val1)):\n",
    "            return True\n",
    "    return False\n",
    "\n",
    "print(isUpperAndLowerSet('e','E'))\n",
    "print(isUpperAndLowerSet('A','a'))\n",
    "print(isUpperAndLowerSet('z','Z'))\n",
    "print(isUpperAndLowerSet('C','C'))\n",
    "print(isUpperAndLowerSet('1',1))\n",
    "print(isUpperAndLowerSet('1','1'))"
   ]
  },
  {
   "cell_type": "code",
   "execution_count": 43,
   "metadata": {
    "collapsed": false,
    "deletable": true,
    "editable": true
   },
   "outputs": [
    {
     "name": "stdout",
     "output_type": "stream",
     "text": [
      "['d', 'a', 'b', 'A', 'c', 'C', 'a', 'C', 'B', 'A', 'c', 'C', 'c', 'a', 'D', 'A']\n"
     ]
    }
   ],
   "source": [
    "#get data\n",
    "input = open(\"input.txt\", \"r\").read()\n",
    "units = list(input)\n",
    "print(units)"
   ]
  },
  {
   "cell_type": "code",
   "execution_count": 55,
   "metadata": {
    "collapsed": false,
    "deletable": true,
    "editable": true
   },
   "outputs": [
    {
     "name": "stdout",
     "output_type": "stream",
     "text": [
      "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\n",
      "counter: 19876\n",
      "elements: 10250\n"
     ]
    }
   ],
   "source": [
    "#get data\n",
    "debug = False\n",
    "input = open(\"input_actual.txt\", \"r\").read()\n",
    "units = list(input)\n",
    "\n",
    "def reactiveElementsInList(units):\n",
    "    for i in range(len(units)):\n",
    "        if debug: print(units)\n",
    "        if i<(len(units)-1):\n",
    "            val1 = units[i]\n",
    "            val2 = units[i+1]\n",
    "            if debug: print(\"checking this pair: [{0},{1}]\".format(val1,val2))\n",
    "            if isUpperAndLowerSet(val1, val2):\n",
    "                if debug: print(\" - match found\")\n",
    "                del units[i:i+2]\n",
    "                return True\n",
    "    return False\n",
    "\n",
    "counter = 0\n",
    "while True:\n",
    "    counter += 1\n",
    "    if not reactiveElementsInList(units):\n",
    "        break\n",
    "    \n",
    "print(''.join(units))\n",
    "print(\"counter: \" + str(counter))\n",
    "print(\"elements: \" + str(len(units)))"
   ]
  },
  {
   "cell_type": "code",
   "execution_count": null,
   "metadata": {
    "collapsed": true,
    "deletable": true,
    "editable": true
   },
   "outputs": [],
   "source": []
  }
 ],
 "metadata": {
  "kernelspec": {
   "display_name": "Python 3",
   "language": "python",
   "name": "python3"
  },
  "language_info": {
   "codemirror_mode": {
    "name": "ipython",
    "version": 3
   },
   "file_extension": ".py",
   "mimetype": "text/x-python",
   "name": "python",
   "nbconvert_exporter": "python",
   "pygments_lexer": "ipython3",
   "version": "3.6.4"
  }
 },
 "nbformat": 4,
 "nbformat_minor": 2
}
