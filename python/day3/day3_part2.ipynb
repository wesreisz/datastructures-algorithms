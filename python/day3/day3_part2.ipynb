{
 "cells": [
  {
   "cell_type": "code",
   "execution_count": 2,
   "metadata": {},
   "outputs": [],
   "source": [
    "class Node:\n",
    "    count = 0\n",
    "    def __init__(self):\n",
    "        self.count = 0\n",
    "        self.claims = []\n",
    "    def addClaimId(self,claim_id):\n",
    "        self.count += 1\n",
    "        self.claims.append(claim_id)\n",
    "    def __str__(self):\n",
    "        return str(self.count)\n",
    "\n",
    "class CoordinatePair:\n",
    "    def __init__(self):\n",
    "        self.x = 0\n",
    "        self.y = 0\n",
    "    def __init__(self,x,y):\n",
    "        self.x = int(x)\n",
    "        self.y = int(y)\n",
    "    def __str__(self):\n",
    "        return \"Point({0},{1})\".format(self.x,self.y)\n",
    "    def __repr__(self):\n",
    "        return this.str()\n",
    "\n",
    "class Claim:\n",
    "    '''Creates a point on a coordinate plane with values x and y.'''\n",
    "    def __init__(self, record_id, starting_point, fill_dimensions):\n",
    "        self.record_id = record_id\n",
    "        self.starting_point = CoordinatePair(starting_point.split(',')[0],starting_point.split(',')[1])\n",
    "        self.fill_dimensions = CoordinatePair(fill_dimensions.split('x')[0],fill_dimensions.split('x')[1])\n",
    "    def __str__(self):\n",
    "        return \"#{0} @ {1},{2}: {3}x{4}\".format(\n",
    "            self.record_id, \n",
    "            self.starting_point.x, self.starting_point.y, \n",
    "            self.fill_dimensions.x, self.fill_dimensions.y)\n",
    "    def __repr__(self):\n",
    "        return this.str()\n"
   ]
  },
  {
   "cell_type": "code",
   "execution_count": 26,
   "metadata": {},
   "outputs": [],
   "source": [
    "def loadClaim(line):\n",
    "    name = re.findall(r\"\"\"#(.+?)@\"\"\", line)\n",
    "    start = re.findall(r\"\"\"@(.+?):\"\"\", line)\n",
    "    fill = re.findall(r\"\"\":(.+?)$\"\"\", line)\n",
    "    \n",
    "    claimName = name[0].strip(' ')\n",
    "    claimStart = start[0].strip(' ')\n",
    "    claimFill = fill[0].strip(' ')\n",
    "    \n",
    "    return Claim(1, claimStart, claimFill)\n",
    "\n",
    "def loadClaims(lines):\n",
    "    claims = []\n",
    "    for line in lines:\n",
    "        claim = loadClaim(line)\n",
    "        claims.append(claim)\n",
    "        #print(claim)\n",
    "    return claims\n",
    "\n",
    "def markClaimOnFabric(fabric, claim):\n",
    "    #check if space available\n",
    "    #given a starting point mark fabric\n",
    "    for i in range(claim.fill_dimensions.y):\n",
    "        for j in range(claim.fill_dimensions.x):\n",
    "            tmp = fabric[i+claim.starting_point.y][j+claim.starting_point.x]\n",
    "            tmp.addClaimId(claim.record_id)\n",
    "\n",
    "def measureFabricOverlap(fabric):\n",
    "    count = 0\n",
    "    for i in range(len(fabric)):\n",
    "        for j in range(len(fabric[0])):\n",
    "            val = fabric[i][j]\n",
    "            #print(val)\n",
    "            if (val.count>1):\n",
    "                count += 1\n",
    "    return count"
   ]
  },
  {
   "cell_type": "code",
   "execution_count": 27,
   "metadata": {
    "scrolled": true
   },
   "outputs": [
    {
     "name": "stdout",
     "output_type": "stream",
     "text": [
      "117948 inches overlap on the fabric\n"
     ]
    }
   ],
   "source": [
    "import re\n",
    "\n",
    "fabric = [[Node() for x in range(1000)] for i in range(1000)] #creates a new node for each position\n",
    "#fabric = [x[:] for x in [[Node()] * 8] * 8]  #uses the same node for each position\n",
    "claims = loadClaims(open(\"input.txt\", \"r\").readlines())\n",
    "\n",
    "for claim in claims:\n",
    "    markClaimOnFabric(fabric,claim)   \n",
    "\n",
    "#fabric\n",
    "overlap_inches = measureFabricOverlap(fabric)\n",
    "print(\"{0} inches overlap on the fabric\".format(overlap_inches))\n",
    "#print(fabric[999][999].claims)"
   ]
  },
  {
   "cell_type": "code",
   "execution_count": 24,
   "metadata": {},
   "outputs": [
    {
     "data": {
      "text/plain": [
       "1"
      ]
     },
     "execution_count": 24,
     "metadata": {},
     "output_type": "execute_result"
    }
   ],
   "source": [
    "#testing\n",
    "test = [[Node() for x in range(8)] for i in range(8)]\n",
    "n1 = test[0][0]\n",
    "n1.addClaimId(\"A14\")\n",
    "n1.addClaimId(\"B34\")\n",
    "n1.addClaimId(\"e3f\")\n",
    "\n",
    "measureFabricOverlap(test)"
   ]
  },
  {
   "cell_type": "code",
   "execution_count": null,
   "metadata": {},
   "outputs": [],
   "source": []
  },
  {
   "cell_type": "code",
   "execution_count": null,
   "metadata": {},
   "outputs": [],
   "source": []
  }
 ],
 "metadata": {
  "kernelspec": {
   "display_name": "Python 3",
   "language": "python",
   "name": "python3"
  },
  "language_info": {
   "codemirror_mode": {
    "name": "ipython",
    "version": 3
   },
   "file_extension": ".py",
   "mimetype": "text/x-python",
   "name": "python",
   "nbconvert_exporter": "python",
   "pygments_lexer": "ipython3",
   "version": "3.6.4"
  }
 },
 "nbformat": 4,
 "nbformat_minor": 2
}
