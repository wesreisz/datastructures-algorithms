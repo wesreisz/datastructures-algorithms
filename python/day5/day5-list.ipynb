{
 "cells": [
  {
   "cell_type": "code",
   "execution_count": 27,
   "metadata": {
    "collapsed": true
   },
   "outputs": [],
   "source": [
    "import io\n",
    "import sys\n",
    "import re\n",
    "\n",
    "\n",
    "def get_puzzle_input(file_input):\n",
    "    data = open(file_input).read().strip()\n",
    "    return data\n",
    "\n",
    "\n",
    "def one_pass(data):\n",
    "    new_data = ''\n",
    "    reductions = 0\n",
    "\n",
    "    d = io.StringIO(data)\n",
    "    first = d.read(1)\n",
    "    while True:\n",
    "        second = d.read(1)\n",
    "        if second == '':\n",
    "            new_data += first\n",
    "            break\n",
    "        if abs(ord(first) - ord(second)) == 32:\n",
    "            reductions += 1\n",
    "            first = d.read(1)\n",
    "            if first  == '':\n",
    "                break\n",
    "        else:\n",
    "            new_data += first\n",
    "            first = second\n",
    "    return reductions, new_data\n",
    "\n",
    "def multi_passes(data):\n",
    "    reductions = 1\n",
    "    loops = 0\n",
    "    while reductions > 0:\n",
    "        loops += 1\n",
    "        reductions, data = one_pass(data)\n",
    "    return loops, data\n",
    "\n",
    "def shortest(data):\n",
    "    lengths = list()\n",
    "    for char in set(data.lower()):\n",
    "        short_data = re.sub(char, '', data, flags=re.IGNORECASE)\n",
    "        lengths.append(len(multi_passes(short_data)[1]))\n",
    "    return min(lengths)"
   ]
  },
  {
   "cell_type": "code",
   "execution_count": 28,
   "metadata": {
    "collapsed": false
   },
   "outputs": [
    {
     "name": "stdout",
     "output_type": "stream",
     "text": [
      "length: 10 in 3 loops\n",
      "shortest: 4\n"
     ]
    }
   ],
   "source": [
    "data = open(\"input.txt\", \"r\").read()\n",
    "loops, new_data = multi_passes(data)\n",
    "print('length: {} in {} loops'.format(len(new_data), loops))\n",
    "print('shortest:', shortest(data))"
   ]
  },
  {
   "cell_type": "code",
   "execution_count": null,
   "metadata": {
    "collapsed": true
   },
   "outputs": [],
   "source": []
  }
 ],
 "metadata": {
  "kernelspec": {
   "display_name": "Python 3",
   "language": "python",
   "name": "python3"
  },
  "language_info": {
   "codemirror_mode": {
    "name": "ipython",
    "version": 3
   },
   "file_extension": ".py",
   "mimetype": "text/x-python",
   "name": "python",
   "nbconvert_exporter": "python",
   "pygments_lexer": "ipython3",
   "version": "3.6.4"
  }
 },
 "nbformat": 4,
 "nbformat_minor": 2
}
