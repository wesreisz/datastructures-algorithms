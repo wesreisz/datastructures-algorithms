{
 "cells": [
  {
   "cell_type": "code",
   "execution_count": 1,
   "metadata": {
    "collapsed": true
   },
   "outputs": [],
   "source": [
    "input = \"dabAcCaCBAcCcaDA\""
   ]
  },
  {
   "cell_type": "code",
   "execution_count": 21,
   "metadata": {
    "collapsed": false
   },
   "outputs": [],
   "source": [
    "class Node():\n",
    "    previous_node = None\n",
    "    value = \"\"\n",
    "    def __init__(self, val = \"\", node = None):\n",
    "        self.value = val \n",
    "        self.previous_node = node\n",
    "    def __str__(self):\n",
    "        return self.value + \":\" + str(self.previous_node)\n",
    "    def __repr__(self):\n",
    "        return self.__str__()\n",
    "    def value(self):\n",
    "        return value"
   ]
  },
  {
   "cell_type": "code",
   "execution_count": 24,
   "metadata": {
    "collapsed": false
   },
   "outputs": [
    {
     "name": "stdout",
     "output_type": "stream",
     "text": [
      "d::None\n",
      "a:d::None\n",
      "b:a:d::None\n",
      "A:b:a:d::None\n",
      "c:A:b:a:d::None\n",
      "C:c:A:b:a:d::None\n",
      "a:C:c:A:b:a:d::None\n",
      "C:a:C:c:A:b:a:d::None\n",
      "B:C:a:C:c:A:b:a:d::None\n",
      "A:B:C:a:C:c:A:b:a:d::None\n",
      "c:A:B:C:a:C:c:A:b:a:d::None\n",
      "C:c:A:B:C:a:C:c:A:b:a:d::None\n",
      "c:C:c:A:B:C:a:C:c:A:b:a:d::None\n",
      "a:c:C:c:A:B:C:a:C:c:A:b:a:d::None\n",
      "D:a:c:C:c:A:B:C:a:C:c:A:b:a:d::None\n",
      "A:D:a:c:C:c:A:B:C:a:C:c:A:b:a:d::None\n"
     ]
    }
   ],
   "source": [
    "n = Node()\n",
    "for item in input:\n",
    "    n = Node(item,n)\n",
    "    print(n)\n",
    "    "
   ]
  },
  {
   "cell_type": "code",
   "execution_count": null,
   "metadata": {
    "collapsed": true
   },
   "outputs": [],
   "source": []
  }
 ],
 "metadata": {
  "kernelspec": {
   "display_name": "Python 3",
   "language": "python",
   "name": "python3"
  },
  "language_info": {
   "codemirror_mode": {
    "name": "ipython",
    "version": 3
   },
   "file_extension": ".py",
   "mimetype": "text/x-python",
   "name": "python",
   "nbconvert_exporter": "python",
   "pygments_lexer": "ipython3",
   "version": "3.6.4"
  }
 },
 "nbformat": 4,
 "nbformat_minor": 2
}
