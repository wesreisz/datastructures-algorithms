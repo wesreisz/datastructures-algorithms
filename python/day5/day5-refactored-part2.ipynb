{
 "cells": [
  {
   "cell_type": "markdown",
   "metadata": {
    "deletable": true,
    "editable": true
   },
   "source": [
    "### --- Day 5: Alchemical Reduction ---\n",
    "You've managed to sneak in to the prototype suit manufacturing lab. The Elves are making decent progress, but are still struggling with the suit's size reduction capabilities.\n",
    "\n",
    "While the very latest in 1518 alchemical technology might have solved their problem eventually, you can do better. You scan the chemical composition of the suit's material and discover that it is formed by extremely long polymers (one of which is available as your puzzle input).\n",
    "\n",
    "The polymer is formed by smaller units which, when triggered, react with each other such that two adjacent units of the same type and opposite polarity are destroyed. Units' types are represented by letters; units' polarity is represented by capitalization. For instance, r and R are units with the same type but opposite polarity, whereas "
   ]
  },
  {
   "cell_type": "code",
   "execution_count": 1,
   "metadata": {
    "collapsed": false,
    "deletable": true,
    "editable": true
   },
   "outputs": [
    {
     "name": "stdout",
     "output_type": "stream",
     "text": [
      "True\n",
      "True\n",
      "True\n",
      "False\n",
      "False\n",
      "False\n"
     ]
    }
   ],
   "source": [
    "#logic to check the case\n",
    "def checkMixedCase(val1,val2):\n",
    "    if (val1.isupper()):\n",
    "        if val2.islower():\n",
    "            return True\n",
    "    else:\n",
    "         if val2.isupper():\n",
    "            return True\n",
    "    return False\n",
    "\n",
    "def isUpperAndLowerSet(val1 = None,val2 = None):\n",
    "    if (not (val1 and val2)) or (val1.isdigit() or val2.isdigit()):\n",
    "        return False\n",
    "    \n",
    "    if val1.upper() != val2.upper():\n",
    "        return False\n",
    "    else:\n",
    "        if (checkMixedCase(val1,val2) and checkMixedCase(val2,val1)):\n",
    "            return True\n",
    "    return False\n",
    "\n",
    "print(isUpperAndLowerSet('e','E'))\n",
    "print(isUpperAndLowerSet('A','a'))\n",
    "print(isUpperAndLowerSet('z','Z'))\n",
    "print(isUpperAndLowerSet('C','C'))\n",
    "print(isUpperAndLowerSet('1',1))\n",
    "print(isUpperAndLowerSet('1','1'))"
   ]
  },
  {
   "cell_type": "code",
   "execution_count": 2,
   "metadata": {
    "collapsed": false,
    "deletable": true,
    "editable": true
   },
   "outputs": [
    {
     "name": "stdout",
     "output_type": "stream",
     "text": [
      "['d', 'a', 'b', 'A', 'c', 'C', 'a', 'C', 'B', 'A', 'c', 'C', 'c', 'a', 'D', 'A']\n"
     ]
    }
   ],
   "source": [
    "#get data\n",
    "input = open(\"input.txt\", \"r\").read()\n",
    "units = list(input)\n",
    "print(units)"
   ]
  },
  {
   "cell_type": "code",
   "execution_count": 3,
   "metadata": {
    "collapsed": false,
    "deletable": true,
    "editable": true
   },
   "outputs": [
    {
     "name": "stdout",
     "output_type": "stream",
     "text": [
      "dabCBAcaDA\n",
      "counter: 4\n",
      "elements: 10\n"
     ]
    }
   ],
   "source": [
    "#get data\n",
    "debug = False\n",
    "input = open(\"input.txt\", \"r\").read()\n",
    "units = list(input)\n",
    "\n",
    "def reactiveElementsInList(units):\n",
    "    for i in range(len(units)):\n",
    "        if debug: print(units)\n",
    "        if i<(len(units)-1):\n",
    "            val1 = units[i]\n",
    "            val2 = units[i+1]\n",
    "            if debug: print(\"checking this pair: [{0},{1}]\".format(val1,val2))\n",
    "            if isUpperAndLowerSet(val1, val2):\n",
    "                if debug: print(\" - match found\")\n",
    "                del units[i:i+2]\n",
    "                return True\n",
    "    return False\n",
    "\n",
    "counter = 0\n",
    "while True:\n",
    "    counter += 1\n",
    "    if not reactiveElementsInList(units):\n",
    "        break\n",
    "    \n",
    "print(''.join(units))\n",
    "print(\"counter: \" + str(counter))\n",
    "print(\"elements: \" + str(len(units)))"
   ]
  },
  {
   "cell_type": "code",
   "execution_count": 4,
   "metadata": {
    "collapsed": false,
    "deletable": true,
    "editable": true
   },
   "outputs": [
    {
     "name": "stdout",
     "output_type": "stream",
     "text": [
      "Reactions: 10250\n"
     ]
    }
   ],
   "source": [
    "#get data\n",
    "debug = False\n",
    "input_data = open(\"input_actual.txt\", \"r\").read()\n",
    "units = list(input_data)\n",
    "\n",
    "def reactiveElementsInList(units):\n",
    "    for i in range(len(units)):\n",
    "        if debug: print(''.join(units))\n",
    "        \n",
    "        while i<(len(units)-1):\n",
    "            val1 = units[i]\n",
    "            val2 = units[i+1]\n",
    "            if debug: print(\"position: {0}\".format(i))\n",
    "            if debug: print(\"checking this pair: [{0},{1}]\".format(val1,val2))\n",
    "            \n",
    "            if isUpperAndLowerSet(val1, val2):\n",
    "                if debug: print(\" --- match found, removing both --- \")\n",
    "                \n",
    "                del units[i:i+2] #remove the matches\n",
    "                i = i-2\n",
    "               \n",
    "                if i<0: i = 0    #make sure we don't go past zero\n",
    "                \n",
    "                if debug: print(\"\")\n",
    "                if debug: print(''.join(units))\n",
    "                if debug: print(\"\")\n",
    "            else:\n",
    "                if debug: print(\"keeping: {0}\".format(val1))\n",
    "                if debug: print(\"\")\n",
    "                i += 1    \n",
    "                \n",
    "        else:\n",
    "            #if debug: print('Correct: dabCBAcaDA')\n",
    "            #if debug: print(''.join(units))\n",
    "            return len(units)\n",
    "        \n",
    "reactions = reactiveElementsInList(units)\n",
    "\n",
    "print(\"Reactions: \" + str(reactions))"
   ]
  },
  {
   "cell_type": "markdown",
   "metadata": {
    "collapsed": false,
    "deletable": true,
    "editable": true
   },
   "source": [
    "### --- Part Two ---\n",
    "Time to improve the polymer.\n",
    "\n",
    "One of the unit types is causing problems; it's preventing the polymer from collapsing as much as it should. Your goal is to figure out which unit type is causing the most problems, remove all instances of it (regardless of polarity), fully react the remaining polymer, and measure its length."
   ]
  },
  {
   "cell_type": "code",
   "execution_count": 5,
   "metadata": {
    "collapsed": false,
    "deletable": true,
    "editable": true
   },
   "outputs": [
    {
     "name": "stdout",
     "output_type": "stream",
     "text": [
      "dabAcCaCBAcCcaDA\n",
      "Removing: d\n",
      "abAcCaCBAcCcaA\n",
      "Removing: A\n",
      "dbcCCBcCcD\n",
      "Removing: c\n",
      "dabAaBAaDA\n"
     ]
    }
   ],
   "source": [
    "def remove_element_from_list(target, list2clean):\n",
    "    i = 0\n",
    "    tmp = []\n",
    "    while i < len(list2clean):\n",
    "        if debug: print(\"i:{0}, size: {1}\".format(i,len(list2clean)))\n",
    "        val = list2clean[i]\n",
    "        \n",
    "        if debug: print(\" - checking {0}, index: {1}\".format(target,val))\n",
    "        \n",
    "        if not val.upper() == target.upper():\n",
    "            tmp.append(val)\n",
    "        i += 1\n",
    "    return tmp\n",
    "\n",
    "input_data = open(\"input.txt\", \"r\").read()\n",
    "print(''.join(input_data))\n",
    "\n",
    "print(\"Removing: \" + \"d\")\n",
    "tmp_list = remove_element_from_list('d', input_data)\n",
    "print(''.join(tmp_list))\n",
    "\n",
    "print(\"Removing: \" + \"A\")\n",
    "tmp_list = remove_element_from_list('A', input_data)\n",
    "print(''.join(tmp_list))\n",
    "\n",
    "\n",
    "print(\"Removing: \" + \"c\")\n",
    "tmp_list = remove_element_from_list('c', input_data)\n",
    "print(''.join(tmp_list))"
   ]
  },
  {
   "cell_type": "code",
   "execution_count": 6,
   "metadata": {
    "collapsed": true,
    "deletable": true,
    "editable": true
   },
   "outputs": [],
   "source": [
    "def least_reactor(reacted_dict):\n",
    "    if debug: print(\"Reacted List:\")\n",
    "    tmp_value = \"\"\n",
    "    tmp_count = sys.maxsize\n",
    "    for key in reacted_dict:\n",
    "        if debug: print(key + \"::\" + str(reacted_dict[key]))\n",
    "        if reacted_dict[key]<tmp_count:\n",
    "            tmp_count = reacted_dict[key]\n",
    "            tmp_value = key\n",
    "    \n",
    "    if debug: print(\"\")\n",
    "    return tmp_value, tmp_count"
   ]
  },
  {
   "cell_type": "code",
   "execution_count": 7,
   "metadata": {
    "collapsed": false,
    "deletable": true,
    "editable": true
   },
   "outputs": [
    {
     "name": "stdout",
     "output_type": "stream",
     "text": [
      "[B,9858]\n",
      "[T,9808]\n",
      "[R,9756]\n",
      "[L,6188]\n",
      "[A,9786]\n",
      "[C,9838]\n",
      "[S,9838]\n",
      "[I,9862]\n",
      "[P,9894]\n",
      "[N,9802]\n",
      "[X,9832]\n",
      "[F,9864]\n",
      "[G,9814]\n",
      "[Q,9870]\n",
      "[J,9830]\n",
      "[Z,9866]\n",
      "[M,9888]\n",
      "[U,9870]\n",
      "[O,9898]\n",
      "[D,9914]\n",
      "[H,9822]\n",
      "[K,9822]\n",
      "[V,9786]\n",
      "[E,9780]\n",
      "[W,9852]\n",
      "[Y,9804]\n",
      "Elements\n",
      "Before: 50000\n",
      "Best Option: ('L', 6188)\n"
     ]
    }
   ],
   "source": [
    "import sys\n",
    "\n",
    "input_data = open(\"input_actual.txt\", \"r\").read()\n",
    "freq_map = {}\n",
    "\n",
    "for element in input_data:\n",
    "    val = element\n",
    "    if not val.upper() in freq_map:\n",
    "        tmp_list = remove_element_from_list(val, input_data)\n",
    "        reactions = reactiveElementsInList(tmp_list)\n",
    "        freq_map[val.upper()] = reactions\n",
    "        print(\"[{0},{1}]\".format(val.upper(),freq_map[val.upper()]))\n",
    "    \n",
    "print(\"Elements\")\n",
    "print(\"Before: {0}\".format(len(input_data)))\n",
    "print(\"Best Option: {0}\".format(least_reactor(freq_map)))\n",
    "\n"
   ]
  },
  {
   "cell_type": "code",
   "execution_count": null,
   "metadata": {
    "collapsed": true
   },
   "outputs": [],
   "source": []
  }
 ],
 "metadata": {
  "kernelspec": {
   "display_name": "Python 3",
   "language": "python",
   "name": "python3"
  },
  "language_info": {
   "codemirror_mode": {
    "name": "ipython",
    "version": 3
   },
   "file_extension": ".py",
   "mimetype": "text/x-python",
   "name": "python",
   "nbconvert_exporter": "python",
   "pygments_lexer": "ipython3",
   "version": "3.6.4"
  }
 },
 "nbformat": 4,
 "nbformat_minor": 2
}
