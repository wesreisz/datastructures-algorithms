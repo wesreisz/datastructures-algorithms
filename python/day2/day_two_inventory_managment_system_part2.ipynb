{
 "cells": [
  {
   "cell_type": "code",
   "execution_count": 320,
   "metadata": {},
   "outputs": [],
   "source": [
    "%config IPCompleter.greedy=True"
   ]
  },
  {
   "cell_type": "code",
   "execution_count": 321,
   "metadata": {},
   "outputs": [],
   "source": [
    "lines = open(\"input.txt\", \"r\").readlines()"
   ]
  },
  {
   "cell_type": "code",
   "execution_count": 322,
   "metadata": {},
   "outputs": [],
   "source": [
    "def one_character_off(first_string, second_string):\n",
    "    first_string = first_string.replace(\" \",\"\")\n",
    "    second_string = second_string.replace(\" \",\"\")\n",
    "    \n",
    "    match_counter = 0\n",
    "    accumulator = \"\"\n",
    "    \n",
    "    for i in range(0,len(first_string)):\n",
    "        tmp = False\n",
    "        if((first_string[i]==second_string[i]) and (first_string[i]!=\"\")):\n",
    "            accumulator = accumulator+first_string[i]\n",
    "            tmp = True\n",
    "            match_counter+=1\n",
    "    \n",
    "    #print(\"checking size::::::string {0} & match_counter {1} \".format(len(first_string),match_counter))\n",
    "    if (match_counter == len(first_string)-1):\n",
    "        #print(\"found {0}:::{1}\".format(first_string,second_string))\n",
    "        return accumulator\n"
   ]
  },
  {
   "cell_type": "code",
   "execution_count": 323,
   "metadata": {},
   "outputs": [
    {
     "name": "stdout",
     "output_type": "stream",
     "text": [
      "lsrivmotzbdxpkxnaqmuwcchj\n",
      "\n",
      "lsrivmotzbdxpkxnaqmuwcchj\n",
      "\n"
     ]
    }
   ],
   "source": [
    "for line in lines:\n",
    "    string_to_compare = line\n",
    "    for line2check in lines:\n",
    "        if (not line2check is line):\n",
    "            #print(\"Comparing {first}::{second}\".format(first=line,second=line2check))\n",
    "            tmp = one_character_off(line, line2check)\n",
    "            if (tmp!=None):\n",
    "                print(tmp)"
   ]
  },
  {
   "cell_type": "code",
   "execution_count": null,
   "metadata": {},
   "outputs": [],
   "source": []
  }
 ],
 "metadata": {
  "kernelspec": {
   "display_name": "Python 3",
   "language": "python",
   "name": "python3"
  },
  "language_info": {
   "codemirror_mode": {
    "name": "ipython",
    "version": 3
   },
   "file_extension": ".py",
   "mimetype": "text/x-python",
   "name": "python",
   "nbconvert_exporter": "python",
   "pygments_lexer": "ipython3",
   "version": "3.6.4"
  }
 },
 "nbformat": 4,
 "nbformat_minor": 2
}
