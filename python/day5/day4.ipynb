{
 "cells": [
  {
   "cell_type": "code",
   "execution_count": 4,
   "metadata": {
    "collapsed": true
   },
   "outputs": [],
   "source": [
    "input = \"dabAcCaCBAcCcaDA\""
   ]
  },
  {
   "cell_type": "code",
   "execution_count": 5,
   "metadata": {
    "collapsed": false
   },
   "outputs": [],
   "source": [
    "class Node():\n",
    "    previous_node = None\n",
    "    value = \"\"\n",
    "    def __init__(self, val = \"\", node = None):\n",
    "        self.value = val \n",
    "        self.previous_node = node\n",
    "    def __str__(self):\n",
    "        return self.value + \":\" + str(self.previous_node)\n",
    "    def __repr__(self):\n",
    "        return self.__str__()\n",
    "    def get_value(self):\n",
    "        return self.value\n",
    "    def get_previous(self):\n",
    "        return self.previous_node.get_value()"
   ]
  },
  {
   "cell_type": "code",
   "execution_count": 6,
   "metadata": {
    "collapsed": false
   },
   "outputs": [
    {
     "name": "stdout",
     "output_type": "stream",
     "text": [
      "A:D:a:c:C:c:A:B:C:a:C:c:A:b:a:d::None\n"
     ]
    }
   ],
   "source": [
    "#build linked list\n",
    "n = Node()\n",
    "for item in input:\n",
    "    n = Node(item,n)\n",
    "\n",
    "print(n) #linkedlist "
   ]
  },
  {
   "cell_type": "code",
   "execution_count": 10,
   "metadata": {
    "collapsed": false
   },
   "outputs": [
    {
     "name": "stdout",
     "output_type": "stream",
     "text": [
      "A:D:a:c:C:c:A:B:C:a:C:c:A:b:a:d::None\n"
     ]
    }
   ],
   "source": [
    "#look for pairs\n",
    "print(n)"
   ]
  },
  {
   "cell_type": "code",
   "execution_count": 11,
   "metadata": {
    "collapsed": false
   },
   "outputs": [
    {
     "name": "stdout",
     "output_type": "stream",
     "text": [
      "A::D\n"
     ]
    }
   ],
   "source": [
    "print(n.get_value()+\"::\"+n.get_previous())"
   ]
  },
  {
   "cell_type": "code",
   "execution_count": null,
   "metadata": {
    "collapsed": true
   },
   "outputs": [],
   "source": []
  }
 ],
 "metadata": {
  "kernelspec": {
   "display_name": "Python 3",
   "language": "python",
   "name": "python3"
  },
  "language_info": {
   "codemirror_mode": {
    "name": "ipython",
    "version": 3
   },
   "file_extension": ".py",
   "mimetype": "text/x-python",
   "name": "python",
   "nbconvert_exporter": "python",
   "pygments_lexer": "ipython3",
   "version": "3.6.4"
  }
 },
 "nbformat": 4,
 "nbformat_minor": 2
}
